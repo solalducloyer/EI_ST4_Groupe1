{
  "cells": [
    {
      "cell_type": "markdown",
      "metadata": {
        "id": "ori0Ylr3kAxt"
      },
      "source": [
        "# Web Information Retrieval\n",
        "## Introduction to search engines\n",
        "\n",
        "### DAY 1: Student version\n",
        "### Introduction & First Steps\n",
        "\n",
        "The goal of this first day is to go through the data and propose some ideas for the creation of your first search engine.\n",
        "\n",
        "The notebook is divided into several steps:\n",
        "- Query on the data\n",
        "- Data extraction\n",
        "- Data exploration\n",
        "- Data Visualization\n",
        "- Ideas suggestion for the search engine\n",
        "\n",
        "The data are from the stack exchange forum. They are available here : https://archive.org/details/stackexchange\n",
        "\n",
        "\n",
        "In order to gain time, you can already download 7 zip file of datascience forum (datascience.stackexchange.com.7z). If you work on Colab, we suggest you to push it on a specific directory (it may take few minutes to load).\n",
        "\n",
        "\n",
        "\n"
      ]
    },
    {
      "cell_type": "markdown",
      "metadata": {
        "id": "Wb6hQEdZJaBT"
      },
      "source": [
        "# Query on the data\n",
        "\n",
        "Perform SQL queries to explore the data on the surface.\n",
        "\n",
        "The queries are to be done directly from this link: https://data.stackexchange.com/datascience/query/new\n",
        "\n",
        "For each query, you must test it on the site and then rewrite it in the associated cell. A capture of the results and a comment is requested in the report.\n",
        "\n",
        "You can find a cheat sheet on SQL basic syntax at: https://res.cloudinary.com/dyd911kmh/image/upload/v1675360372/Marketing/Blog/SQL_Basics_For_Data_Science.pdf\n"
      ]
    },
    {
      "cell_type": "code",
      "execution_count": 1,
      "metadata": {
        "id": "GPF6rwhUqORi"
      },
      "outputs": [],
      "source": [
        "# How many lines are in the Posts, Tags, Comments tables ?"
      ]
    },
    {
      "cell_type": "markdown",
      "metadata": {
        "id": "FdpEy6DlLbJc"
      },
      "source": [
        "- Posts: 76685\n",
        "- Tags: 695\n",
        "- Comments : 79236"
      ]
    },
    {
      "cell_type": "code",
      "execution_count": 2,
      "metadata": {
        "id": "epn2j17pqPIC"
      },
      "outputs": [],
      "source": [
        "# How many comments have there been since the beginning of the year ?"
      ]
    },
    {
      "cell_type": "markdown",
      "metadata": {
        "id": "q_-KeRQbLnnA"
      },
      "source": [
        "- 0 (since beginning of 2023)"
      ]
    },
    {
      "cell_type": "code",
      "execution_count": 3,
      "metadata": {
        "id": "SkOl7AHlqT1H"
      },
      "outputs": [],
      "source": [
        "# How many users are there ?"
      ]
    },
    {
      "cell_type": "markdown",
      "metadata": {
        "id": "OUbHU7IxLu88"
      },
      "source": [
        "- 127926"
      ]
    },
    {
      "cell_type": "code",
      "execution_count": 4,
      "metadata": {
        "id": "JTiguRqKqV5c"
      },
      "outputs": [],
      "source": [
        "# How many new users are there each year since 2020 ?"
      ]
    },
    {
      "cell_type": "markdown",
      "metadata": {
        "id": "3SsrUgq5LxL6"
      },
      "source": [
        "- 2020 : 19855\n",
        "- 2021 : 16623\n",
        "- 2022 : 13822\n",
        "- 2023 : 4874"
      ]
    },
    {
      "cell_type": "code",
      "execution_count": 5,
      "metadata": {
        "id": "kltcQv74qYBw"
      },
      "outputs": [],
      "source": [
        "# What is the Content of the smallest Post ?"
      ]
    },
    {
      "cell_type": "markdown",
      "metadata": {
        "id": "P2i9R9w2L4sU"
      },
      "source": [
        "Gradient Boosting Machine ..."
      ]
    },
    {
      "cell_type": "code",
      "execution_count": 6,
      "metadata": {
        "id": "4mJQ9f2-qbMA"
      },
      "outputs": [],
      "source": [
        "# What is the most voted post ?"
      ]
    },
    {
      "cell_type": "markdown",
      "metadata": {
        "id": "QDl6xVj6MA0P"
      },
      "source": [
        "Id of the most voted post : 47154"
      ]
    },
    {
      "cell_type": "code",
      "execution_count": 7,
      "metadata": {
        "id": "-FzkIPeAqeVB"
      },
      "outputs": [],
      "source": [
        "# What are the 10 most frequent tags in 2022? (ordered from most to least frequent)"
      ]
    },
    {
      "cell_type": "markdown",
      "metadata": {
        "id": "eePn_HW4qlUm"
      },
      "source": [
        "## Initialize the environnement"
      ]
    },
    {
      "cell_type": "code",
      "execution_count": 8,
      "metadata": {
        "id": "CqwXLcP_qmrz",
        "colab": {
          "base_uri": "https://localhost:8080/"
        },
        "outputId": "d2f6f9e9-d5b6-40fa-ef99-4257842e43ac"
      },
      "outputs": [
        {
          "output_type": "stream",
          "name": "stdout",
          "text": [
            "\u001b[2K     \u001b[90m━━━━━━━━━━━━━━━━━━━━━━━━━━━━━━━━━━━━━━━━\u001b[0m \u001b[32m66.4/66.4 kB\u001b[0m \u001b[31m2.4 MB/s\u001b[0m eta \u001b[36m0:00:00\u001b[0m\n",
            "\u001b[2K     \u001b[90m━━━━━━━━━━━━━━━━━━━━━━━━━━━━━━━━━━━━━━━━\u001b[0m \u001b[32m2.1/2.1 MB\u001b[0m \u001b[31m28.4 MB/s\u001b[0m eta \u001b[36m0:00:00\u001b[0m\n",
            "\u001b[2K     \u001b[90m━━━━━━━━━━━━━━━━━━━━━━━━━━━━━━━━━━━━━━\u001b[0m \u001b[32m399.3/399.3 kB\u001b[0m \u001b[31m26.9 MB/s\u001b[0m eta \u001b[36m0:00:00\u001b[0m\n",
            "\u001b[2K     \u001b[90m━━━━━━━━━━━━━━━━━━━━━━━━━━━━━━━━━━━━━━\u001b[0m \u001b[32m138.8/138.8 kB\u001b[0m \u001b[31m12.1 MB/s\u001b[0m eta \u001b[36m0:00:00\u001b[0m\n",
            "\u001b[2K     \u001b[90m━━━━━━━━━━━━━━━━━━━━━━━━━━━━━━━━━━━━━━━━\u001b[0m \u001b[32m49.8/49.8 kB\u001b[0m \u001b[31m4.4 MB/s\u001b[0m eta \u001b[36m0:00:00\u001b[0m\n",
            "\u001b[2K     \u001b[90m━━━━━━━━━━━━━━━━━━━━━━━━━━━━━━━━━━━━━━━━\u001b[0m \u001b[32m2.7/2.7 MB\u001b[0m \u001b[31m42.7 MB/s\u001b[0m eta \u001b[36m0:00:00\u001b[0m\n",
            "\u001b[2K     \u001b[90m━━━━━━━━━━━━━━━━━━━━━━━━━━━━━━━━━━━━━━━━\u001b[0m \u001b[32m93.1/93.1 kB\u001b[0m \u001b[31m9.2 MB/s\u001b[0m eta \u001b[36m0:00:00\u001b[0m\n",
            "\u001b[?25h"
          ]
        }
      ],
      "source": [
        "## Install the library for extracting 7 zip file\n",
        "!pip install py7zr --quiet"
      ]
    },
    {
      "cell_type": "code",
      "execution_count": 9,
      "metadata": {
        "id": "yacdJePmqo8g"
      },
      "outputs": [],
      "source": [
        "## Import the libraries\n",
        "\n",
        "import pandas as pd\n",
        "import matplotlib.pyplot as plt\n",
        "import seaborn as sns\n",
        "from google.colab import drive\n",
        "#import py7zr\n",
        "import os"
      ]
    },
    {
      "cell_type": "markdown",
      "metadata": {
        "id": "8FmfwnjOqv3G"
      },
      "source": [
        "There is a simple method for extracting the data directly from the website zip repo. It writes the different files directly in your google drive."
      ]
    },
    {
      "cell_type": "code",
      "execution_count": 10,
      "metadata": {
        "colab": {
          "base_uri": "https://localhost:8080/"
        },
        "id": "Laiz3w_YqrNu",
        "outputId": "b86f705c-b7df-45e7-d176-bcc103706a5d"
      },
      "outputs": [
        {
          "output_type": "stream",
          "name": "stdout",
          "text": [
            "Mounted at /content/drive\n"
          ]
        }
      ],
      "source": [
        "# Only if you use Colab\n",
        "\n",
        "drive.mount('/content/drive')"
      ]
    },
    {
      "cell_type": "code",
      "execution_count": 11,
      "metadata": {
        "id": "AM12A6cYqy3-"
      },
      "outputs": [],
      "source": [
        "# To adapt to your Drive/local directory\n",
        "\n",
        "MAIN_PATH = '/content/drive/MyDrive/EI_ST4_Groupe1'\n",
        "DATA_PATH = '/content/drive/MyDrive/EI_ST4_Groupe1/Data'"
      ]
    },
    {
      "cell_type": "code",
      "execution_count": 12,
      "metadata": {
        "id": "nq-JymDaq1O6"
      },
      "outputs": [],
      "source": [
        "if not os.path.isdir(MAIN_PATH):\n",
        "  os.mkdir(MAIN_PATH)\n",
        "if not os.path.isdir(MAIN_PATH):\n",
        "  os.mkdir(DATA_PATH)"
      ]
    },
    {
      "cell_type": "code",
      "execution_count": 13,
      "metadata": {
        "id": "5OIJnSUPq6Wo"
      },
      "outputs": [],
      "source": [
        "#archive = py7zr.SevenZipFile(os.path.join(MAIN_PATH, 'datascience.stackexchange.com.7z'), mode='r')\n",
        "#archive.extractall(path=os.path.join(MAIN_PATH, 'data'))\n",
        "#archive.close()"
      ]
    },
    {
      "cell_type": "markdown",
      "metadata": {
        "id": "7wnLEyhJrC1o"
      },
      "source": [
        "## Data Extraction\n",
        "\n",
        "The data is in XML format. Why do you think the developers preferred this format? What could have been other possible formats? (**answer expected in the report**)\n",
        "\n",
        "Here is what a raw file looks like:\n"
      ]
    },
    {
      "cell_type": "markdown",
      "metadata": {
        "id": "G-031UHX8mk8"
      },
      "source": [
        "- Facilite la visualisation/lecture des données\n",
        "- Plus pratique quand y'a des relations entre les différentes BDD ( possibilité de faire des jointures\n"
      ]
    },
    {
      "cell_type": "code",
      "execution_count": 14,
      "metadata": {
        "id": "zf-Y3oQXxYxq",
        "colab": {
          "base_uri": "https://localhost:8080/"
        },
        "outputId": "334fb634-e421-45ae-d4b5-930018fbe627"
      },
      "outputs": [
        {
          "output_type": "stream",
          "name": "stdout",
          "text": [
            "﻿<?xml version=\"1.0\" encoding=\"utf-8\"?>\n",
            "<tags>\n",
            "  <row Id=\"1\" TagName=\"definitions\" Count=\"36\" ExcerptPostId=\"105\" WikiPostId=\"104\" />\n",
            "  <row Id=\"2\" TagName=\"machine-learning\" Count=\"11059\" ExcerptPostId=\"4909\" WikiPostId=\"4908\" />\n",
            "  <row Id=\"3\" TagName=\"bigdata\" Count=\"462\" ExcerptPostId=\"66\" WikiPostId=\"65\" />\n",
            "  <row Id=\"5\" TagName=\"data-mining\" Count=\"1172\" ExcerptPostId=\"80\" WikiPostId=\"79\" />\n",
            "  <row Id=\"6\" TagName=\"databases\" Count=\"95\" ExcerptPostId=\"8960\" WikiPostId=\"8959\" />\n",
            "  <row Id=\"8\" TagName=\"libsvm\" Count=\"15\" ExcerptPostId=\"18\" WikiPostId=\"17\" />\n",
            "  <row Id=\"10\" TagName=\"scalability\" Count=\"33\" />\n",
            "  <row Id=\"11\" TagName=\"efficiency\" Count=\"42\" ExcerptPostId=\"142\" WikiPostId=\"141\" />\n",
            "  <row Id=\"12\" TagName=\"performance\" Count=\"176\" ExcerptPostId=\"99799\" WikiPostId=\"99798\" />\n",
            "  <row Id=\"13\" TagName=\"nosql\" Count=\"22\" ExcerptPostId=\"119\" WikiPostId=\"118\" />\n",
            "  <row Id=\"14\" TagName=\"relational-dbms\" Count=\"7\" />\n",
            "  <row Id=\"15\" TagName=\"clustering\" Count=\"1363\" ExcerptPostId=\"145\" WikiPostId=\"144\" />\n",
            "  <row Id=\"16\" TagName=\"octave\" Count=\"16\" ExcerptPostId=\"68\" WikiPostId=\"67\" />\n",
            "  <row Id=\"17\" TagName=\"k-means\" Count=\"439\" ExcerptPostId=\"8958\" WikiPostId=\"8957\" />\n",
            "  <row Id=\"19\" TagName=\"algorithms\" Count=\"392\" ExcerptPostId=\"8932\" WikiPostId=\"8931\" />\n",
            "  <row Id=\"21\" TagName=\"tools\" Count=\"68\" ExcerptPostId=\"90882\" WikiPostId=\"90881\" />\n",
            "  <row Id=\"22\" TagName=\"processing\" Count=\"18\" />\n",
            "  <row Id=\"23\" TagName=\"apache-hadoop\" Count=\"122\" ExcerptPostId=\"5840\" WikiPostId=\"5839\" />\n",
            "  <row Id=\"24\" TagName=\"r\" Count=\"1479\" ExcerptPostId=\"49\" WikiPostId=\"48\" />\n",
            "  <row Id=\"26\" TagName=\"data-cleaning\" Count=\"746\" ExcerptPostId=\"8940\" WikiPostId=\"8939\" />\n",
            "  <row Id=\"27\" TagName=\"statistics\" Count=\"1107\" ExcerptPostId=\"3790\" WikiPostId=\"3789\" />\n",
            "  <row Id=\"29\" TagName=\"distributed\" Count=\"38\" />\n",
            "  <row Id=\"31\" TagName=\"neo4j\" Count=\"14\" ExcerptPostId=\"181\" WikiPostId=\"180\" />\n",
            "  <row Id=\"35\" TagName=\"information-retrieval\" Count=\"134\" ExcerptPostId=\"48747\" WikiPostId=\"48746\" />\n",
            "  <row Id=\"36\" TagName=\"google\" Count=\"44\" ExcerptPostId=\"80788\" WikiPostId=\"80787\" />\n",
            "  <row Id=\"37\" TagName=\"search\" Count=\"51\" />\n",
            "  <row Id=\"39\" TagName=\"education\" Count=\"32\" ExcerptPostId=\"8276\" WikiPostId=\"8275\" />\n",
            "  <row Id=\"40\" TagName=\"open-source\" Count=\"21\" />\n",
            "  <row Id=\"42\" TagName=\"similarity\" Count=\"279\" />\n",
            "  <row Id=\"43\" TagName=\"data-stream-mining\" Count=\"23\" ExcerptPostId=\"109\" WikiPostId=\"108\" />\n",
            "  <row Id=\"45\" TagName=\"dimensionality-reduction\" Count=\"292\" ExcerptPostId=\"8975\" WikiPostId=\"8974\" />\n",
            "  <row Id=\"46\" TagName=\"python\" Count=\"6564\" ExcerptPostId=\"5523\" WikiPostId=\"5522\" />\n",
            "  <row Id=\"47\" TagName=\"nlp\" Count=\"2554\" ExcerptPostId=\"147\" WikiPostId=\"146\" />\n",
            "  <row Id=\"48\" TagName=\"language-model\" Count=\"117\" ExcerptPostId=\"88032\" WikiPostId=\"88031\" />\n",
            "  <row Id=\"50\" TagName=\"topic-model\" Count=\"141\" ExcerptPostId=\"8400\" WikiPostId=\"8399\" />\n",
            "  <row Id=\"51\" TagName=\"lda\" Count=\"124\" ExcerptPostId=\"6763\" WikiPostId=\"6762\" />\n",
            "  <row Id=\"54\" TagName=\"feature-selection\" Count=\"943\" ExcerptPostId=\"8936\" WikiPostId=\"8935\" />\n",
            "  <row Id=\"55\" TagName=\"map-reduce\" Count=\"29\" ExcerptPostId=\"137\" WikiPostId=\"136\" />\n",
            "  <row Id=\"56\" TagName=\"mongodb\" Count=\"14\" ExcerptPostId=\"178\" WikiPostId=\"177\" />\n",
            "  <row Id=\"59\" TagName=\"indexing\" Count=\"25\" ExcerptPostId=\"152\" WikiPostId=\"151\" />\n",
            "  <row Id=\"60\" TagName=\"data-indexing-techniques\" Count=\"9\" ExcerptPostId=\"149\" WikiPostId=\"148\" />\n",
            "  <row Id=\"61\" TagName=\"dataset\" Count=\"1441\" ExcerptPostId=\"8889\" WikiPostId=\"8888\" />\n",
            "  <row Id=\"62\" TagName=\".net\" Count=\"13\" ExcerptPostId=\"168\" WikiPostId=\"167\" />\n",
            "  <row Id=\"64\" TagName=\"pandas\" Count=\"1307\" ExcerptPostId=\"9185\" WikiPostId=\"9184\" />\n",
            "  <row Id=\"65\" TagName=\"parallel\" Count=\"38\" />\n",
            "  <row Id=\"66\" TagName=\"metadata\" Count=\"20\" />\n",
            "  <row Id=\"67\" TagName=\"parsing\" Count=\"29\" />\n",
            "  <row Id=\"71\" TagName=\"social-network-analysis\" Count=\"95\" ExcerptPostId=\"8973\" WikiPostId=\"8972\" />\n",
            "  <row Id=\"72\" TagName=\"time-series\" Count=\"1816\" ExcerptPostId=\"8904\" WikiPostId=\"8903\" />\n",
            "  <row Id=\"73\" TagName=\"javascript\" Count=\"39\" />\n",
            "  <row Id=\"74\" TagName=\"visualization\" Count=\"671\" ExcerptPostId=\"8952\" WikiPostId=\"8951\" />\n",
            "  <row Id=\"76\" TagName=\"svm\" Count=\"579\" ExcerptPostId=\"8574\" WikiPostId=\"8573\" />\n",
            "  <row Id=\"77\" TagName=\"classification\" Count=\"3179\" ExcerptPostId=\"4911\" WikiPostId=\"4910\" />\n",
            "  <row Id=\"78\" TagName=\"binary\" Count=\"98\" />\n",
            "  <row Id=\"80\" TagName=\"optimization\" Count=\"496\" ExcerptPostId=\"8954\" WikiPostId=\"8953\" />\n",
            "  <row Id=\"81\" TagName=\"neural-network\" Count=\"4284\" ExcerptPostId=\"8885\" WikiPostId=\"8884\" />\n",
            "  <row Id=\"82\" TagName=\"usecase\" Count=\"9\" />\n",
            "  <row Id=\"83\" TagName=\"consumerweb\" Count=\"8\" />\n",
            "  <row Id=\"84\" TagName=\"parameter\" Count=\"38\" />\n",
            "  <row Id=\"87\" TagName=\"aws\" Count=\"59\" ExcerptPostId=\"88105\" WikiPostId=\"88104\" />\n",
            "  <row Id=\"90\" TagName=\"text-mining\" Count=\"577\" ExcerptPostId=\"8900\" WikiPostId=\"8899\" />\n",
            "  <row Id=\"94\" TagName=\"freebase\" Count=\"3\" ExcerptPostId=\"48674\" WikiPostId=\"48673\" />\n",
            "  <row Id=\"95\" TagName=\"knowledge-base\" Count=\"23\" />\n",
            "  <row Id=\"100\" TagName=\"confusion-matrix\" Count=\"167\" ExcerptPostId=\"9043\" WikiPostId=\"9042\" />\n",
            "  <row Id=\"101\" TagName=\"accuracy\" Count=\"385\" ExcerptPostId=\"90254\" WikiPostId=\"90253\" />\n",
            "  <row Id=\"102\" TagName=\"categorical-data\" Count=\"390\" ExcerptPostId=\"8977\" WikiPostId=\"8976\" />\n",
            "  <row Id=\"104\" TagName=\"data-formats\" Count=\"38\" />\n",
            "  <row Id=\"105\" TagName=\"hierarchical-data-format\" Count=\"28\" />\n",
            "  <row Id=\"108\" TagName=\"sql\" Count=\"102\" ExcerptPostId=\"8990\" WikiPostId=\"8989\" />\n",
            "  <row Id=\"109\" TagName=\"research\" Count=\"63\" />\n",
            "  <row Id=\"110\" TagName=\"experiments\" Count=\"41\" ExcerptPostId=\"39144\" WikiPostId=\"39143\" />\n",
            "  <row Id=\"113\" TagName=\"random-forest\" Count=\"827\" ExcerptPostId=\"8938\" WikiPostId=\"8937\" />\n",
            "  <row Id=\"114\" TagName=\"logistic-regression\" Count=\"677\" ExcerptPostId=\"8934\" WikiPostId=\"8933\" />\n",
            "  <row Id=\"115\" TagName=\"evaluation\" Count=\"303\" ExcerptPostId=\"43584\" WikiPostId=\"43583\" />\n",
            "  <row Id=\"116\" TagName=\"crawling\" Count=\"14\" />\n",
            "  <row Id=\"119\" TagName=\"anonymization\" Count=\"15\" />\n",
            "  <row Id=\"120\" TagName=\"beginner\" Count=\"146\" ExcerptPostId=\"10335\" WikiPostId=\"10334\" />\n",
            "  <row Id=\"123\" TagName=\"graphs\" Count=\"227\" ExcerptPostId=\"89838\" WikiPostId=\"89837\" />\n",
            "  <row Id=\"124\" TagName=\"cross-validation\" Count=\"611\" ExcerptPostId=\"8988\" WikiPostId=\"8987\" />\n",
            "  <row Id=\"126\" TagName=\"sampling\" Count=\"191\" />\n",
            "  <row Id=\"128\" TagName=\"scikit-learn\" Count=\"2261\" ExcerptPostId=\"5896\" WikiPostId=\"5895\" />\n",
            "  <row Id=\"129\" TagName=\"kaggle\" Count=\"114\" ExcerptPostId=\"48600\" WikiPostId=\"48599\" />\n",
            "  <row Id=\"135\" TagName=\"gradient-descent\" Count=\"437\" ExcerptPostId=\"48491\" WikiPostId=\"48490\" />\n",
            "  <row Id=\"136\" TagName=\"feature-extraction\" Count=\"402\" ExcerptPostId=\"10019\" WikiPostId=\"10018\" />\n",
            "  <row Id=\"138\" TagName=\"state-of-the-art\" Count=\"9\" />\n",
            "  <row Id=\"139\" TagName=\"career\" Count=\"60\" />\n",
            "  <row Id=\"143\" TagName=\"genetic\" Count=\"5\" />\n",
            "  <row Id=\"144\" TagName=\"correlation\" Count=\"394\" ExcerptPostId=\"8969\" WikiPostId=\"8968\" />\n",
            "  <row Id=\"146\" TagName=\"error-handling\" Count=\"56\" />\n",
            "  <row Id=\"147\" TagName=\"apache-pig\" Count=\"7\" ExcerptPostId=\"22402\" WikiPostId=\"22401\" />\n",
            "  <row Id=\"156\" TagName=\"glm\" Count=\"31\" />\n",
            "  <row Id=\"157\" TagName=\"regression\" Count=\"1545\" ExcerptPostId=\"8906\" WikiPostId=\"8905\" />\n",
            "  <row Id=\"158\" TagName=\"scala\" Count=\"48\" ExcerptPostId=\"49016\" WikiPostId=\"49015\" />\n",
            "  <row Id=\"159\" TagName=\"csv\" Count=\"100\" ExcerptPostId=\"8992\" WikiPostId=\"8991\" />\n",
            "  <row Id=\"160\" TagName=\"online-learning\" Count=\"57\" ExcerptPostId=\"88152\" WikiPostId=\"88151\" />\n",
            "  <row Id=\"164\" TagName=\"gbm\" Count=\"61\" ExcerptPostId=\"9096\" WikiPostId=\"9095\" />\n",
            "  <row Id=\"167\" TagName=\"marketing\" Count=\"35\" />\n",
            "  <row Id=\"168\" TagName=\"predictive-modeling\" Count=\"1171\" ExcerptPostId=\"8902\" WikiPostId=\"8901\" />\n",
            "  <row Id=\"175\" TagName=\"library\" Count=\"20\" />\n",
            "  <row Id=\"179\" TagName=\"java\" Count=\"58\" ExcerptPostId=\"10021\" WikiPostId=\"10020\" />\n",
            "  <row Id=\"184\" TagName=\"anomaly-detection\" Count=\"350\" ExcerptPostId=\"48505\" WikiPostId=\"48504\" />\n",
            "  <row Id=\"185\" TagName=\"forecast\" Count=\"104\" />\n",
            "  <row Id=\"186\" TagName=\"sequence\" Count=\"120\" ExcerptPostId=\"9053\" WikiPostId=\"9052\" />\n",
            "  <row Id=\"191\" TagName=\"hbase\" Count=\"2\" ExcerptPostId=\"48678\" WikiPostId=\"48677\" />\n",
            "  <row Id=\"193\" TagName=\"tableau\" Count=\"65\" />\n",
            "  <row Id=\"194\" TagName=\"deep-learning\" Count=\"4782\" ExcerptPostId=\"8956\" WikiPostId=\"8955\" />\n",
            "  <row Id=\"195\" TagName=\"ensemble-modeling\" Count=\"194\" ExcerptPostId=\"48541\" WikiPostId=\"48540\" />\n",
            "  <row Id=\"197\" TagName=\"infographics\" Count=\"8\" />\n",
            "  <row Id=\"200\" TagName=\"feature-scaling\" Count=\"252\" ExcerptPostId=\"21855\" WikiPostId=\"21854\" />\n",
            "  <row Id=\"201\" TagName=\"apache-mahout\" Count=\"16\" ExcerptPostId=\"48660\" WikiPostId=\"48659\" />\n",
            "  <row Id=\"202\" TagName=\"hive\" Count=\"14\" ExcerptPostId=\"48745\" WikiPostId=\"48744\" />\n",
            "  <row Id=\"205\" TagName=\"object-recognition\" Count=\"61\" />\n",
            "  <row Id=\"206\" TagName=\"hog\" Count=\"4\" />\n",
            "  <row Id=\"207\" TagName=\"computer-vision\" Count=\"612\" ExcerptPostId=\"9205\" WikiPostId=\"9204\" />\n",
            "  <row Id=\"211\" TagName=\"methods\" Count=\"21\" />\n",
            "  <row Id=\"212\" TagName=\"scoring\" Count=\"57\" />\n",
            "  <row Id=\"213\" TagName=\"ranking\" Count=\"113\" ExcerptPostId=\"9049\" WikiPostId=\"9048\" />\n",
            "  <row Id=\"214\" TagName=\"sports\" Count=\"8\" />\n",
            "  <row Id=\"215\" TagName=\"markov-process\" Count=\"70\" ExcerptPostId=\"8986\" WikiPostId=\"8985\" />\n",
            "  <row Id=\"216\" TagName=\"matlab\" Count=\"156\" ExcerptPostId=\"48517\" WikiPostId=\"48516\" />\n",
            "  <row Id=\"217\" TagName=\"simulation\" Count=\"31\" />\n",
            "  <row Id=\"218\" TagName=\"finance\" Count=\"55\" ExcerptPostId=\"48020\" WikiPostId=\"48019\" />\n",
            "  <row Id=\"219\" TagName=\"apache-spark\" Count=\"249\" ExcerptPostId=\"8971\" WikiPostId=\"8970\" />\n",
            "  <row Id=\"220\" TagName=\"linear-regression\" Count=\"757\" ExcerptPostId=\"8887\" WikiPostId=\"8886\" />\n",
            "  <row Id=\"222\" TagName=\"version-control\" Count=\"15\" />\n",
            "  <row Id=\"224\" TagName=\"image-classification\" Count=\"734\" ExcerptPostId=\"51105\" WikiPostId=\"51104\" />\n",
            "  <row Id=\"226\" TagName=\"software-development\" Count=\"16\" ExcerptPostId=\"114184\" WikiPostId=\"114183\" />\n",
            "  <row Id=\"227\" TagName=\"rstudio\" Count=\"80\" ExcerptPostId=\"49014\" WikiPostId=\"49013\" />\n",
            "  <row Id=\"229\" TagName=\"programming\" Count=\"40\" />\n",
            "  <row Id=\"232\" TagName=\"notation\" Count=\"16\" ExcerptPostId=\"57306\" WikiPostId=\"57305\" />\n",
            "  <row Id=\"233\" TagName=\"terminology\" Count=\"95\" ExcerptPostId=\"9059\" WikiPostId=\"9058\" />\n",
            "  <row Id=\"235\" TagName=\"sas\" Count=\"20\" ExcerptPostId=\"9051\" WikiPostId=\"9050\" />\n",
            "  <row Id=\"236\" TagName=\"hyperparameter\" Count=\"150\" ExcerptPostId=\"21852\" WikiPostId=\"21851\" />\n",
            "  <row Id=\"237\" TagName=\"survival-analysis\" Count=\"44\" ExcerptPostId=\"9045\" WikiPostId=\"9044\" />\n",
            "  <row Id=\"238\" TagName=\"discriminant-analysis\" Count=\"21\" ExcerptPostId=\"9106\" WikiPostId=\"9105\" />\n",
            "  <row Id=\"239\" TagName=\"multiclass-classification\" Count=\"544\" ExcerptPostId=\"90605\" WikiPostId=\"90604\" />\n",
            "  <row Id=\"240\" TagName=\"books\" Count=\"44\" />\n",
            "  <row Id=\"243\" TagName=\"genetic-algorithms\" Count=\"57\" />\n",
            "  <row Id=\"244\" TagName=\"featurization\" Count=\"5\" />\n",
            "  <row Id=\"249\" TagName=\"decision-trees\" Count=\"731\" ExcerptPostId=\"16988\" WikiPostId=\"16987\" />\n",
            "  <row Id=\"250\" TagName=\"self-study\" Count=\"51\" />\n",
            "  <row Id=\"251\" TagName=\"named-entity-recognition\" Count=\"164\" />\n",
            "  <row Id=\"254\" TagName=\"bioinformatics\" Count=\"24\" ExcerptPostId=\"9098\" WikiPostId=\"9097\" />\n",
            "  <row Id=\"255\" TagName=\"data\" Count=\"845\" ExcerptPostId=\"35800\" WikiPostId=\"35799\" />\n",
            "  <row Id=\"261\" TagName=\"multitask-learning\" Count=\"35\" ExcerptPostId=\"6442\" WikiPostId=\"6441\" />\n",
            "  <row Id=\"266\" TagName=\"word-embeddings\" Count=\"472\" ExcerptPostId=\"6614\" WikiPostId=\"6613\" />\n",
            "  <row Id=\"269\" TagName=\"software-recommendation\" Count=\"34\" ExcerptPostId=\"9057\" WikiPostId=\"9056\" />\n",
            "  <row Id=\"271\" TagName=\"preprocessing\" Count=\"513\" ExcerptPostId=\"73186\" WikiPostId=\"73185\" />\n",
            "  <row Id=\"272\" TagName=\"multilabel-classification\" Count=\"307\" ExcerptPostId=\"6780\" WikiPostId=\"6779\" />\n",
            "  <row Id=\"273\" TagName=\"reference-request\" Count=\"74\" ExcerptPostId=\"9055\" WikiPostId=\"9054\" />\n",
            "  <row Id=\"274\" TagName=\"julia\" Count=\"14\" ExcerptPostId=\"12599\" WikiPostId=\"12598\" />\n",
            "  <row Id=\"276\" TagName=\"loss-function\" Count=\"529\" ExcerptPostId=\"48493\" WikiPostId=\"48492\" />\n",
            "  <row Id=\"278\" TagName=\"ggplot2\" Count=\"45\" ExcerptPostId=\"21818\" WikiPostId=\"21817\" />\n",
            "  <row Id=\"279\" TagName=\"normalization\" Count=\"295\" ExcerptPostId=\"48521\" WikiPostId=\"48520\" />\n",
            "  <row Id=\"280\" TagName=\"weighted-data\" Count=\"64\" />\n",
            "  <row Id=\"281\" TagName=\"feature-construction\" Count=\"75\" />\n",
            "  <row Id=\"282\" TagName=\"supervised-learning\" Count=\"370\" ExcerptPostId=\"9047\" WikiPostId=\"9046\" />\n",
            "  <row Id=\"283\" TagName=\"descriptive-statistics\" Count=\"88\" ExcerptPostId=\"9104\" WikiPostId=\"9103\" />\n",
            "  <row Id=\"284\" TagName=\"aggregation\" Count=\"46\" />\n",
            "  <row Id=\"286\" TagName=\"c\" Count=\"15\" />\n",
            "  <row Id=\"287\" TagName=\"missing-data\" Count=\"190\" ExcerptPostId=\"88101\" WikiPostId=\"88100\" />\n",
            "  <row Id=\"288\" TagName=\"markov\" Count=\"14\" />\n",
            "  <row Id=\"289\" TagName=\"expectation-maximization\" Count=\"23\" ExcerptPostId=\"9102\" WikiPostId=\"9101\" />\n",
            "  <row Id=\"290\" TagName=\"distance\" Count=\"149\" ExcerptPostId=\"12579\" WikiPostId=\"12578\" />\n",
            "  <row Id=\"291\" TagName=\"cosine-distance\" Count=\"84\" ExcerptPostId=\"48664\" WikiPostId=\"48663\" />\n",
            "  <row Id=\"293\" TagName=\"learning\" Count=\"37\" />\n",
            "  <row Id=\"298\" TagName=\"ipython\" Count=\"50\" ExcerptPostId=\"48858\" WikiPostId=\"48857\" />\n",
            "  <row Id=\"299\" TagName=\"anaconda\" Count=\"56\" ExcerptPostId=\"48656\" WikiPostId=\"48655\" />\n",
            "  <row Id=\"301\" TagName=\"numerical\" Count=\"30\" />\n",
            "  <row Id=\"302\" TagName=\"history\" Count=\"8\" />\n",
            "  <row Id=\"303\" TagName=\"outlier\" Count=\"210\" ExcerptPostId=\"12561\" WikiPostId=\"12560\" />\n",
            "  <row Id=\"304\" TagName=\"unsupervised-learning\" Count=\"441\" ExcerptPostId=\"9094\" WikiPostId=\"9093\" />\n",
            "  <row Id=\"305\" TagName=\"probability\" Count=\"298\" ExcerptPostId=\"73188\" WikiPostId=\"73187\" />\n",
            "  <row Id=\"307\" TagName=\"autoencoder\" Count=\"334\" ExcerptPostId=\"8674\" WikiPostId=\"8673\" />\n",
            "  <row Id=\"310\" TagName=\"backpropagation\" Count=\"292\" ExcerptPostId=\"36804\" WikiPostId=\"36803\" />\n",
            "  <row Id=\"311\" TagName=\"theano\" Count=\"45\" ExcerptPostId=\"48598\" WikiPostId=\"48597\" />\n",
            "  <row Id=\"312\" TagName=\"fuzzy-logic\" Count=\"29\" ExcerptPostId=\"57240\" WikiPostId=\"57239\" />\n",
            "  <row Id=\"313\" TagName=\"weka\" Count=\"71\" ExcerptPostId=\"18889\" WikiPostId=\"18888\" />\n",
            "  <row Id=\"315\" TagName=\"scraping\" Count=\"46\" ExcerptPostId=\"88728\" WikiPostId=\"88727\" />\n",
            "  <row Id=\"317\" TagName=\"xgboost\" Count=\"681\" ExcerptPostId=\"12577\" WikiPostId=\"12576\" />\n",
            "  <row Id=\"319\" TagName=\"data-wrangling\" Count=\"57\" />\n",
            "  <row Id=\"320\" TagName=\"data-product\" Count=\"16\" />\n",
            "  <row Id=\"321\" TagName=\"tensorflow\" Count=\"2186\" ExcerptPostId=\"9183\" WikiPostId=\"9182\" />\n",
            "  <row Id=\"322\" TagName=\"excel\" Count=\"79\" ExcerptPostId=\"88040\" WikiPostId=\"88039\" />\n",
            "  <row Id=\"323\" TagName=\"semi-supervised-learning\" Count=\"56\" ExcerptPostId=\"63634\" WikiPostId=\"63633\" />\n",
            "  <row Id=\"324\" TagName=\"keras\" Count=\"2728\" ExcerptPostId=\"9251\" WikiPostId=\"9250\" />\n",
            "  <row Id=\"325\" TagName=\"azure-ml\" Count=\"57\" ExcerptPostId=\"9253\" WikiPostId=\"9252\" />\n",
            "  <row Id=\"327\" TagName=\"machine-translation\" Count=\"88\" ExcerptPostId=\"90750\" WikiPostId=\"90749\" />\n",
            "  <row Id=\"328\" TagName=\"data-imputation\" Count=\"114\" ExcerptPostId=\"43035\" WikiPostId=\"43034\" />\n",
            "  <row Id=\"329\" TagName=\"gensim\" Count=\"102\" ExcerptPostId=\"10237\" WikiPostId=\"10236\" />\n",
            "  <row Id=\"330\" TagName=\"lsi\" Count=\"7\" />\n",
            "  <row Id=\"331\" TagName=\"model-selection\" Count=\"256\" ExcerptPostId=\"43582\" WikiPostId=\"43581\" />\n",
            "  <row Id=\"332\" TagName=\"feature-engineering\" Count=\"621\" ExcerptPostId=\"25556\" WikiPostId=\"25555\" />\n",
            "  <row Id=\"333\" TagName=\"hinge-loss\" Count=\"8\" ExcerptPostId=\"9986\" WikiPostId=\"9985\" />\n",
            "  <row Id=\"334\" TagName=\"stata\" Count=\"8\" ExcerptPostId=\"89007\" WikiPostId=\"89006\" />\n",
            "  <row Id=\"335\" TagName=\"text\" Count=\"165\" ExcerptPostId=\"88479\" WikiPostId=\"88478\" />\n",
            "  <row Id=\"337\" TagName=\"json\" Count=\"35\" />\n",
            "  <row Id=\"340\" TagName=\"reinforcement-learning\" Count=\"605\" ExcerptPostId=\"9674\" WikiPostId=\"9673\" />\n",
            "  <row Id=\"341\" TagName=\"q-learning\" Count=\"124\" ExcerptPostId=\"9676\" WikiPostId=\"9675\" />\n",
            "  <row Id=\"342\" TagName=\"google-prediction-api\" Count=\"7\" />\n",
            "  <row Id=\"344\" TagName=\"ab-test\" Count=\"55\" ExcerptPostId=\"48409\" WikiPostId=\"48408\" />\n",
            "  <row Id=\"345\" TagName=\"nltk\" Count=\"138\" ExcerptPostId=\"10023\" WikiPostId=\"10022\" />\n",
            "  <row Id=\"346\" TagName=\"apache-kafka\" Count=\"5\" ExcerptPostId=\"48658\" WikiPostId=\"48657\" />\n",
            "  <row Id=\"347\" TagName=\"pybrain\" Count=\"3\" ExcerptPostId=\"48951\" WikiPostId=\"48950\" />\n",
            "  <row Id=\"348\" TagName=\"word2vec\" Count=\"356\" ExcerptPostId=\"12733\" WikiPostId=\"12732\" />\n",
            "  <row Id=\"351\" TagName=\"convergence\" Count=\"39\" />\n",
            "  <row Id=\"352\" TagName=\"pgm\" Count=\"5\" ExcerptPostId=\"9830\" WikiPostId=\"9829\" />\n",
            "  <row Id=\"354\" TagName=\"parameter-estimation\" Count=\"55\" />\n",
            "  <row Id=\"356\" TagName=\"bayesian-networks\" Count=\"51\" />\n",
            "  <row Id=\"358\" TagName=\"orange\" Count=\"236\" ExcerptPostId=\"9921\" WikiPostId=\"9920\" />\n",
            "  <row Id=\"359\" TagName=\"churn\" Count=\"45\" />\n",
            "  <row Id=\"360\" TagName=\"naive-bayes-classifier\" Count=\"207\" ExcerptPostId=\"9984\" WikiPostId=\"9983\" />\n",
            "  <row Id=\"361\" TagName=\"image-recognition\" Count=\"247\" ExcerptPostId=\"10017\" WikiPostId=\"10016\" />\n",
            "  <row Id=\"362\" TagName=\"market-basket-analysis\" Count=\"24\" ExcerptPostId=\"48866\" WikiPostId=\"48865\" />\n",
            "  <row Id=\"363\" TagName=\"association-rules\" Count=\"72\" />\n",
            "  <row Id=\"364\" TagName=\"audio-recognition\" Count=\"106\" />\n",
            "  <row Id=\"365\" TagName=\"rbm\" Count=\"30\" ExcerptPostId=\"10129\" WikiPostId=\"10128\" />\n",
            "  <row Id=\"366\" TagName=\"interpolation\" Count=\"27\" ExcerptPostId=\"10137\" WikiPostId=\"10136\" />\n",
            "  <row Id=\"367\" TagName=\"recommender-system\" Count=\"476\" ExcerptPostId=\"25261\" WikiPostId=\"25260\" />\n",
            "  <row Id=\"368\" TagName=\"regularization\" Count=\"165\" ExcerptPostId=\"48959\" WikiPostId=\"48958\" />\n",
            "  <row Id=\"370\" TagName=\"dbscan\" Count=\"71\" ExcerptPostId=\"48666\" WikiPostId=\"48665\" />\n",
            "  <row Id=\"372\" TagName=\"pca\" Count=\"333\" ExcerptPostId=\"23174\" WikiPostId=\"23173\" />\n",
            "  <row Id=\"373\" TagName=\"randomized-algorithms\" Count=\"23\" />\n",
            "  <row Id=\"374\" TagName=\"rnn\" Count=\"744\" ExcerptPostId=\"10591\" WikiPostId=\"10590\" />\n",
            "  <row Id=\"376\" TagName=\"labels\" Count=\"105\" ExcerptPostId=\"90880\" WikiPostId=\"90879\" />\n",
            "  <row Id=\"377\" TagName=\"tsne\" Count=\"66\" ExcerptPostId=\"23176\" WikiPostId=\"23175\" />\n",
            "  <row Id=\"378\" TagName=\"manifold\" Count=\"9\" />\n",
            "  <row Id=\"380\" TagName=\"stanford-nlp\" Count=\"61\" ExcerptPostId=\"10929\" WikiPostId=\"10928\" />\n",
            "  <row Id=\"382\" TagName=\"dropout\" Count=\"64\" ExcerptPostId=\"48856\" WikiPostId=\"48855\" />\n",
            "  <row Id=\"383\" TagName=\"training\" Count=\"657\" ExcerptPostId=\"90603\" WikiPostId=\"90602\" />\n",
            "  <row Id=\"386\" TagName=\"amazon-ml\" Count=\"8\" />\n",
            "  <row Id=\"388\" TagName=\"geospatial\" Count=\"83\" ExcerptPostId=\"11343\" WikiPostId=\"11342\" />\n",
            "  <row Id=\"389\" TagName=\"sequential-pattern-mining\" Count=\"53\" />\n",
            "  <row Id=\"393\" TagName=\"gpu\" Count=\"160\" ExcerptPostId=\"90619\" WikiPostId=\"90618\" />\n",
            "  <row Id=\"395\" TagName=\"jaccard-coefficient\" Count=\"16\" ExcerptPostId=\"48811\" WikiPostId=\"48810\" />\n",
            "  <row Id=\"396\" TagName=\"pyspark\" Count=\"132\" ExcerptPostId=\"48580\" WikiPostId=\"48579\" />\n",
            "  <row Id=\"397\" TagName=\"jupyter\" Count=\"156\" ExcerptPostId=\"48813\" WikiPostId=\"48812\" />\n",
            "  <row Id=\"398\" TagName=\"sentiment-analysis\" Count=\"239\" ExcerptPostId=\"48578\" WikiPostId=\"48577\" />\n",
            "  <row Id=\"400\" TagName=\"torch\" Count=\"23\" />\n",
            "  <row Id=\"401\" TagName=\"competitions\" Count=\"7\" />\n",
            "  <row Id=\"402\" TagName=\"overfitting\" Count=\"347\" ExcerptPostId=\"48509\" WikiPostId=\"48508\" />\n",
            "  <row Id=\"403\" TagName=\"powerbi\" Count=\"39\" ExcerptPostId=\"48949\" WikiPostId=\"48948\" />\n",
            "  <row Id=\"407\" TagName=\"prediction\" Count=\"450\" ExcerptPostId=\"99538\" WikiPostId=\"99537\" />\n",
            "  <row Id=\"409\" TagName=\"score\" Count=\"36\" />\n",
            "  <row Id=\"410\" TagName=\"encoding\" Count=\"177\" ExcerptPostId=\"88099\" WikiPostId=\"88098\" />\n",
            "  <row Id=\"411\" TagName=\"spss\" Count=\"10\" ExcerptPostId=\"49046\" WikiPostId=\"49045\" />\n",
            "  <row Id=\"412\" TagName=\"gaussian\" Count=\"83\" ExcerptPostId=\"88320\" WikiPostId=\"88319\" />\n",
            "  <row Id=\"415\" TagName=\"mutual-information\" Count=\"25\" ExcerptPostId=\"48868\" WikiPostId=\"48867\" />\n",
            "  <row Id=\"416\" TagName=\"bayesian\" Count=\"135\" ExcerptPostId=\"103456\" WikiPostId=\"103455\" />\n",
            "  <row Id=\"422\" TagName=\"etl\" Count=\"16\" />\n",
            "  <row Id=\"427\" TagName=\"graphical-model\" Count=\"26\" />\n",
            "  <row Id=\"434\" TagName=\"domain-adaptation\" Count=\"11\" />\n",
            "  <row Id=\"437\" TagName=\"methodology\" Count=\"47\" />\n",
            "  <row Id=\"438\" TagName=\"theory\" Count=\"60\" ExcerptPostId=\"88732\" WikiPostId=\"88731\" />\n",
            "  <row Id=\"442\" TagName=\"distribution\" Count=\"170\" />\n",
            "  <row Id=\"443\" TagName=\"text-generation\" Count=\"75\" ExcerptPostId=\"100365\" WikiPostId=\"100364\" />\n",
            "  <row Id=\"444\" TagName=\"estimators\" Count=\"16\" />\n",
            "  <row Id=\"445\" TagName=\"information-theory\" Count=\"36\" ExcerptPostId=\"57262\" WikiPostId=\"57261\" />\n",
            "  <row Id=\"450\" TagName=\"cost-function\" Count=\"72\" />\n",
            "  <row Id=\"452\" TagName=\"data-augmentation\" Count=\"121\" />\n",
            "  <row Id=\"457\" TagName=\"inception\" Count=\"49\" />\n",
            "  <row Id=\"458\" TagName=\"caffe\" Count=\"15\" ExcerptPostId=\"48662\" WikiPostId=\"48661\" />\n",
            "  <row Id=\"459\" TagName=\"redshift\" Count=\"5\" ExcerptPostId=\"17602\" WikiPostId=\"17601\" />\n",
            "  <row Id=\"461\" TagName=\"text-filter\" Count=\"11\" />\n",
            "  <row Id=\"464\" TagName=\"management\" Count=\"14\" />\n",
            "  <row Id=\"465\" TagName=\"variance\" Count=\"123\" />\n",
            "  <row Id=\"466\" TagName=\"regex\" Count=\"32\" ExcerptPostId=\"48957\" WikiPostId=\"48956\" />\n",
            "  <row Id=\"467\" TagName=\"noisification\" Count=\"3\" />\n",
            "  <row Id=\"468\" TagName=\"privacy\" Count=\"11\" ExcerptPostId=\"114180\" WikiPostId=\"114179\" />\n",
            "  <row Id=\"470\" TagName=\"vc-theory\" Count=\"26\" />\n",
            "  <row Id=\"471\" TagName=\"search-engine\" Count=\"24\" />\n",
            "  <row Id=\"473\" TagName=\"community\" Count=\"5\" />\n",
            "  <row Id=\"474\" TagName=\"monte-carlo\" Count=\"33\" />\n",
            "  <row Id=\"476\" TagName=\"pytorch\" Count=\"650\" ExcerptPostId=\"16990\" WikiPostId=\"16989\" />\n",
            "  <row Id=\"478\" TagName=\"dirichlet\" Count=\"8\" ExcerptPostId=\"48793\" WikiPostId=\"48792\" />\n",
            "  <row Id=\"480\" TagName=\"plotting\" Count=\"155\" ExcerptPostId=\"90878\" WikiPostId=\"90877\" />\n",
            "  <row Id=\"481\" TagName=\"matrix-factorisation\" Count=\"60\" ExcerptPostId=\"48818\" WikiPostId=\"48817\" />\n",
            "  <row Id=\"482\" TagName=\"convolution\" Count=\"280\" ExcerptPostId=\"49288\" WikiPostId=\"49287\" />\n",
            "  <row Id=\"483\" TagName=\"active-learning\" Count=\"29\" />\n",
            "  <row Id=\"484\" TagName=\"tokenization\" Count=\"62\" />\n",
            "  <row Id=\"485\" TagName=\"linux\" Count=\"13\" />\n",
            "  <row Id=\"486\" TagName=\"data-leakage\" Count=\"53\" />\n",
            "  <row Id=\"487\" TagName=\"gan\" Count=\"232\" ExcerptPostId=\"24887\" WikiPostId=\"24886\" />\n",
            "  <row Id=\"488\" TagName=\"rattle\" Count=\"3\" ExcerptPostId=\"17451\" WikiPostId=\"17450\" />\n",
            "  <row Id=\"491\" TagName=\"embeddings\" Count=\"176\" />\n",
            "  <row Id=\"499\" TagName=\"ocr\" Count=\"71\" ExcerptPostId=\"25247\" WikiPostId=\"25246\" />\n",
            "  <row Id=\"502\" TagName=\"linear-algebra\" Count=\"92\" ExcerptPostId=\"48860\" WikiPostId=\"48859\" />\n",
            "  <row Id=\"504\" TagName=\"similar-documents\" Count=\"61\" />\n",
            "  <row Id=\"505\" TagName=\"representation\" Count=\"40\" />\n",
            "  <row Id=\"510\" TagName=\"lda-classifier\" Count=\"8\" />\n",
            "  <row Id=\"511\" TagName=\"perceptron\" Count=\"86\" ExcerptPostId=\"48897\" WikiPostId=\"48896\" />\n",
            "  <row Id=\"512\" TagName=\"automatic-summarization\" Count=\"30\" />\n",
            "  <row Id=\"513\" TagName=\"nvidia\" Count=\"23\" />\n",
            "  <row Id=\"514\" TagName=\"alex-net\" Count=\"13\" />\n",
            "  <row Id=\"519\" TagName=\"smote\" Count=\"97\" ExcerptPostId=\"49042\" WikiPostId=\"49041\" />\n",
            "  <row Id=\"520\" TagName=\"class-imbalance\" Count=\"531\" ExcerptPostId=\"82475\" WikiPostId=\"82474\" />\n",
            "  <row Id=\"521\" TagName=\"dataframe\" Count=\"350\" ExcerptPostId=\"48519\" WikiPostId=\"48518\" />\n",
            "  <row Id=\"522\" TagName=\"classifier\" Count=\"69\" />\n",
            "  <row Id=\"524\" TagName=\"vector-space-models\" Count=\"37\" />\n",
            "  <row Id=\"527\" TagName=\"lstm\" Count=\"1171\" ExcerptPostId=\"25536\" WikiPostId=\"25535\" />\n",
            "  <row Id=\"528\" TagName=\"forecasting\" Count=\"341\" ExcerptPostId=\"90735\" WikiPostId=\"90734\" />\n",
            "  <row Id=\"530\" TagName=\"mnist\" Count=\"85\" ExcerptPostId=\"25538\" WikiPostId=\"25537\" />\n",
            "  <row Id=\"532\" TagName=\"tfidf\" Count=\"132\" ExcerptPostId=\"100254\" WikiPostId=\"100253\" />\n",
            "  <row Id=\"533\" TagName=\"learning-rate\" Count=\"40\" />\n",
            "  <row Id=\"534\" TagName=\"twitter\" Count=\"26\" ExcerptPostId=\"91008\" WikiPostId=\"91007\" />\n",
            "  <row Id=\"535\" TagName=\"cloud\" Count=\"16\" />\n",
            "  <row Id=\"537\" TagName=\"batch-normalization\" Count=\"62\" ExcerptPostId=\"22487\" WikiPostId=\"22486\" />\n",
            "  <row Id=\"538\" TagName=\"word\" Count=\"10\" />\n",
            "  <row Id=\"539\" TagName=\"generative-models\" Count=\"152\" ExcerptPostId=\"56541\" WikiPostId=\"56540\" />\n",
            "  <row Id=\"550\" TagName=\"game\" Count=\"21\" ExcerptPostId=\"23308\" WikiPostId=\"23307\" />\n",
            "  <row Id=\"552\" TagName=\"ngrams\" Count=\"33\" />\n",
            "  <row Id=\"554\" TagName=\"meta-learning\" Count=\"22\" />\n",
            "  <row Id=\"555\" TagName=\"ensemble\" Count=\"33\" />\n",
            "  <row Id=\"556\" TagName=\"pac-learning\" Count=\"17\" ExcerptPostId=\"24318\" WikiPostId=\"24317\" />\n",
            "  <row Id=\"557\" TagName=\"cnn\" Count=\"1373\" ExcerptPostId=\"28890\" WikiPostId=\"28889\" />\n",
            "  <row Id=\"558\" TagName=\"tranformation\" Count=\"4\" />\n",
            "  <row Id=\"559\" TagName=\"seaborn\" Count=\"93\" ExcerptPostId=\"49020\" WikiPostId=\"49019\" />\n",
            "  <row Id=\"561\" TagName=\"counts\" Count=\"12\" />\n",
            "  <row Id=\"562\" TagName=\"numpy\" Count=\"357\" ExcerptPostId=\"48507\" WikiPostId=\"48506\" />\n",
            "  <row Id=\"564\" TagName=\"activation-function\" Count=\"165\" ExcerptPostId=\"48617\" WikiPostId=\"48616\" />\n",
            "  <row Id=\"565\" TagName=\"cloud-computing\" Count=\"27\" />\n",
            "  <row Id=\"566\" TagName=\"homework\" Count=\"14\" />\n",
            "  <row Id=\"567\" TagName=\"keras-rl\" Count=\"12\" ExcerptPostId=\"24515\" WikiPostId=\"24514\" />\n",
            "  <row Id=\"568\" TagName=\"openai-gym\" Count=\"49\" />\n",
            "  <row Id=\"569\" TagName=\"dqn\" Count=\"87\" ExcerptPostId=\"100256\" WikiPostId=\"100255\" />\n",
            "  <row Id=\"570\" TagName=\"mini-batch-gradient-descent\" Count=\"59\" ExcerptPostId=\"100464\" WikiPostId=\"100463\" />\n",
            "  <row Id=\"571\" TagName=\"neural-style-transfer\" Count=\"16\" />\n",
            "  <row Id=\"572\" TagName=\"noise\" Count=\"39\" />\n",
            "  <row Id=\"575\" TagName=\"yolo\" Count=\"110\" ExcerptPostId=\"91199\" WikiPostId=\"91198\" />\n",
            "  <row Id=\"576\" TagName=\"ibm-watson\" Count=\"1\" ExcerptPostId=\"48809\" WikiPostId=\"48808\" />\n",
            "  <row Id=\"577\" TagName=\"speech-to-text\" Count=\"43\" ExcerptPostId=\"49044\" WikiPostId=\"49043\" />\n",
            "  <row Id=\"580\" TagName=\"matplotlib\" Count=\"213\" ExcerptPostId=\"48596\" WikiPostId=\"48595\" />\n",
            "  <row Id=\"581\" TagName=\"tflearn\" Count=\"9\" />\n",
            "  <row Id=\"582\" TagName=\"learning-to-rank\" Count=\"29\" />\n",
            "  <row Id=\"583\" TagName=\"anomaly\" Count=\"21\" />\n",
            "  <row Id=\"584\" TagName=\"actor-critic\" Count=\"31\" ExcerptPostId=\"58477\" WikiPostId=\"58476\" />\n",
            "  <row Id=\"585\" TagName=\"grid-search\" Count=\"110\" ExcerptPostId=\"48676\" WikiPostId=\"48675\" />\n",
            "  <row Id=\"586\" TagName=\"hyperparameter-tuning\" Count=\"275\" ExcerptPostId=\"90616\" WikiPostId=\"90615\" />\n",
            "  <row Id=\"587\" TagName=\"bayes-error\" Count=\"8\" ExcerptPostId=\"35927\" WikiPostId=\"35926\" />\n",
            "  <row Id=\"588\" TagName=\"transfer-learning\" Count=\"191\" ExcerptPostId=\"26090\" WikiPostId=\"26089\" />\n",
            "  <row Id=\"591\" TagName=\"kernel\" Count=\"87\" ExcerptPostId=\"43586\" WikiPostId=\"43585\" />\n",
            "  <row Id=\"593\" TagName=\"reshape\" Count=\"39\" />\n",
            "  <row Id=\"594\" TagName=\"project-planning\" Count=\"16\" />\n",
            "  <row Id=\"596\" TagName=\"scipy\" Count=\"94\" ExcerptPostId=\"49018\" WikiPostId=\"49017\" />\n",
            "  <row Id=\"598\" TagName=\"bias\" Count=\"101\" />\n",
            "  <row Id=\"599\" TagName=\"markov-hidden-model\" Count=\"44\" ExcerptPostId=\"48816\" WikiPostId=\"48815\" />\n",
            "  <row Id=\"602\" TagName=\"sequence-to-sequence\" Count=\"118\" />\n",
            "  <row Id=\"605\" TagName=\"svr\" Count=\"18\" />\n",
            "  <row Id=\"606\" TagName=\"vgg16\" Count=\"61\" ExcerptPostId=\"88730\" WikiPostId=\"88729\" />\n",
            "  <row Id=\"607\" TagName=\"object-detection\" Count=\"349\" ExcerptPostId=\"57308\" WikiPostId=\"57307\" />\n",
            "  <row Id=\"608\" TagName=\"automation\" Count=\"11\" />\n",
            "  <row Id=\"609\" TagName=\"glorot-initialization\" Count=\"4\" />\n",
            "  <row Id=\"610\" TagName=\"faster-rcnn\" Count=\"52\" />\n",
            "  <row Id=\"611\" TagName=\"ensemble-learning\" Count=\"43\" />\n",
            "  <row Id=\"612\" TagName=\"k-nn\" Count=\"186\" ExcerptPostId=\"43051\" WikiPostId=\"43050\" />\n",
            "  <row Id=\"613\" TagName=\"hardware\" Count=\"30\" ExcerptPostId=\"114432\" WikiPostId=\"114431\" />\n",
            "  <row Id=\"614\" TagName=\"ai\" Count=\"97\" ExcerptPostId=\"91201\" WikiPostId=\"91200\" />\n",
            "  <row Id=\"617\" TagName=\"colab\" Count=\"71\" ExcerptPostId=\"88103\" WikiPostId=\"88102\" />\n",
            "  <row Id=\"618\" TagName=\"data-science-model\" Count=\"647\" ExcerptPostId=\"113241\" WikiPostId=\"113240\" />\n",
            "  <row Id=\"619\" TagName=\"machine-learning-model\" Count=\"799\" ExcerptPostId=\"90247\" WikiPostId=\"90246\" />\n",
            "  <row Id=\"621\" TagName=\"mlp\" Count=\"103\" ExcerptPostId=\"63784\" WikiPostId=\"63783\" />\n",
            "  <row Id=\"623\" TagName=\"annotation\" Count=\"34\" />\n",
            "  <row Id=\"624\" TagName=\"normal-equation\" Count=\"9\" />\n",
            "  <row Id=\"627\" TagName=\"metric\" Count=\"237\" ExcerptPostId=\"88477\" WikiPostId=\"88476\" />\n",
            "  <row Id=\"628\" TagName=\"data-analysis\" Count=\"276\" ExcerptPostId=\"99540\" WikiPostId=\"99539\" />\n",
            "  <row Id=\"629\" TagName=\"self-driving\" Count=\"8\" ExcerptPostId=\"88037\" WikiPostId=\"88036\" />\n",
            "  <row Id=\"630\" TagName=\"generalization\" Count=\"38\" />\n",
            "  <row Id=\"631\" TagName=\"boosting\" Count=\"120\" />\n",
            "  <row Id=\"632\" TagName=\"objective-function\" Count=\"25\" />\n",
            "  <row Id=\"633\" TagName=\"predictor-importance\" Count=\"29\" />\n",
            "  <row Id=\"634\" TagName=\"momentum\" Count=\"9\" />\n",
            "  <row Id=\"637\" TagName=\"weight-initialization\" Count=\"50\" ExcerptPostId=\"102035\" WikiPostId=\"102034\" />\n",
            "  <row Id=\"640\" TagName=\"dplyr\" Count=\"22\" ExcerptPostId=\"48795\" WikiPostId=\"48794\" />\n",
            "  <row Id=\"641\" TagName=\"epochs\" Count=\"44\" />\n",
            "  <row Id=\"644\" TagName=\"cs231n\" Count=\"3\" ExcerptPostId=\"88305\" WikiPostId=\"88304\" />\n",
            "  <row Id=\"645\" TagName=\"gridsearchcv\" Count=\"89\" />\n",
            "  <row Id=\"646\" TagName=\"sensors\" Count=\"11\" />\n",
            "  <row Id=\"651\" TagName=\"mcmc\" Count=\"6\" ExcerptPostId=\"48820\" WikiPostId=\"48819\" />\n",
            "  <row Id=\"652\" TagName=\"probabilistic-programming\" Count=\"12\" />\n",
            "  <row Id=\"656\" TagName=\"policy-gradients\" Count=\"60\" />\n",
            "  <row Id=\"660\" TagName=\"stacked-lstm\" Count=\"17\" />\n",
            "  <row Id=\"662\" TagName=\"ndcg\" Count=\"9\" />\n",
            "  <row Id=\"663\" TagName=\"fastai\" Count=\"24\" ExcerptPostId=\"48804\" WikiPostId=\"48803\" />\n",
            "  <row Id=\"664\" TagName=\"pipelines\" Count=\"100\" ExcerptPostId=\"48899\" WikiPostId=\"48898\" />\n",
            "  <row Id=\"667\" TagName=\"nlg\" Count=\"13\" ExcerptPostId=\"36831\" WikiPostId=\"36830\" />\n",
            "  <row Id=\"669\" TagName=\"heatmap\" Count=\"28\" ExcerptPostId=\"48743\" WikiPostId=\"48742\" />\n",
            "  <row Id=\"671\" TagName=\"collinearity\" Count=\"27\" />\n",
            "  <row Id=\"673\" TagName=\"matrix\" Count=\"74\" ExcerptPostId=\"39146\" WikiPostId=\"39145\" />\n",
            "  <row Id=\"674\" TagName=\"spatial-transformer\" Count=\"4\" />\n",
            "  <row Id=\"675\" TagName=\"evolutionary-algorithms\" Count=\"18\" />\n",
            "  <row Id=\"677\" TagName=\"opencv\" Count=\"104\" ExcerptPostId=\"48895\" WikiPostId=\"48894\" />\n",
            "  <row Id=\"678\" TagName=\"feature-reduction\" Count=\"9\" />\n",
            "  <row Id=\"680\" TagName=\"activity-recognition\" Count=\"5\" />\n",
            "  <row Id=\"686\" TagName=\"features\" Count=\"88\" />\n",
            "  <row Id=\"687\" TagName=\"genetic-programming\" Count=\"10\" ExcerptPostId=\"85280\" WikiPostId=\"85279\" />\n",
            "  <row Id=\"690\" TagName=\"attention-mechanism\" Count=\"134\" />\n",
            "  <row Id=\"693\" TagName=\"rbf\" Count=\"11\" ExcerptPostId=\"43049\" WikiPostId=\"43048\" />\n",
            "  <row Id=\"700\" TagName=\"implementation\" Count=\"118\" ExcerptPostId=\"93742\" WikiPostId=\"93741\" />\n",
            "  <row Id=\"701\" TagName=\"code\" Count=\"15\" />\n",
            "  <row Id=\"704\" TagName=\"image-size\" Count=\"5\" />\n",
            "  <row Id=\"707\" TagName=\"imbalanced-learn\" Count=\"51\" ExcerptPostId=\"88261\" WikiPostId=\"88260\" />\n",
            "  <row Id=\"708\" TagName=\"smotenc\" Count=\"8\" />\n",
            "  <row Id=\"709\" TagName=\"image-preprocessing\" Count=\"169\" ExcerptPostId=\"99718\" WikiPostId=\"99717\" />\n",
            "  <row Id=\"711\" TagName=\"deepmind\" Count=\"19\" ExcerptPostId=\"90847\" WikiPostId=\"90846\" />\n",
            "  <row Id=\"712\" TagName=\"wolfram-language\" Count=\"4\" ExcerptPostId=\"45101\" WikiPostId=\"45100\" />\n",
            "  <row Id=\"713\" TagName=\"chatbot\" Count=\"24\" />\n",
            "  <row Id=\"716\" TagName=\"finite-precision\" Count=\"5\" />\n",
            "  <row Id=\"717\" TagName=\"h2o\" Count=\"11\" ExcerptPostId=\"45591\" WikiPostId=\"45590\" />\n",
            "  <row Id=\"718\" TagName=\"dynamic-programming\" Count=\"10\" />\n",
            "  <row Id=\"719\" TagName=\"ridge-regression\" Count=\"27\" ExcerptPostId=\"48961\" WikiPostId=\"48960\" />\n",
            "  <row Id=\"720\" TagName=\"image\" Count=\"88\" />\n",
            "  <row Id=\"721\" TagName=\"discounted-reward\" Count=\"6\" />\n",
            "  <row Id=\"723\" TagName=\"difference\" Count=\"14\" />\n",
            "  <row Id=\"724\" TagName=\"3d-reconstruction\" Count=\"12\" />\n",
            "  <row Id=\"725\" TagName=\"sagemaker\" Count=\"23\" ExcerptPostId=\"48614\" WikiPostId=\"48613\" />\n",
            "  <row Id=\"728\" TagName=\"transformer\" Count=\"371\" ExcerptPostId=\"54047\" WikiPostId=\"54046\" />\n",
            "  <row Id=\"729\" TagName=\"gmm\" Count=\"7\" ExcerptPostId=\"48407\" WikiPostId=\"48406\" />\n",
            "  <row Id=\"730\" TagName=\"bert\" Count=\"341\" ExcerptPostId=\"48405\" WikiPostId=\"48404\" />\n",
            "  <row Id=\"731\" TagName=\"dummy-variables\" Count=\"43\" />\n",
            "  <row Id=\"732\" TagName=\"pip\" Count=\"14\" ExcerptPostId=\"47323\" WikiPostId=\"47322\" />\n",
            "  <row Id=\"734\" TagName=\"aws-lambda\" Count=\"4\" ExcerptPostId=\"48791\" WikiPostId=\"48790\" />\n",
            "  <row Id=\"735\" TagName=\"serialisation\" Count=\"6\" />\n",
            "  <row Id=\"737\" TagName=\"density-estimation\" Count=\"18\" ExcerptPostId=\"48148\" WikiPostId=\"48147\" />\n",
            "  <row Id=\"738\" TagName=\"mathematics\" Count=\"222\" ExcerptPostId=\"88263\" WikiPostId=\"88262\" />\n",
            "  <row Id=\"739\" TagName=\"finetuning\" Count=\"53\" />\n",
            "  <row Id=\"741\" TagName=\"vae\" Count=\"33\" />\n",
            "  <row Id=\"743\" TagName=\"web-scraping\" Count=\"34\" />\n",
            "  <row Id=\"744\" TagName=\"mean-shift\" Count=\"5\" />\n",
            "  <row Id=\"745\" TagName=\"structured-data\" Count=\"10\" />\n",
            "  <row Id=\"746\" TagName=\"fuzzy-classification\" Count=\"11\" />\n",
            "  <row Id=\"747\" TagName=\"probability-calibration\" Count=\"46\" />\n",
            "  <row Id=\"754\" TagName=\"gaussian-process\" Count=\"25\" />\n",
            "  <row Id=\"755\" TagName=\"inceptionresnetv2\" Count=\"18\" />\n",
            "  <row Id=\"756\" TagName=\"explainable-ai\" Count=\"71\" ExcerptPostId=\"52018\" WikiPostId=\"52017\" />\n",
            "  <row Id=\"757\" TagName=\"softmax\" Count=\"63\" />\n",
            "  <row Id=\"759\" TagName=\"coursera\" Count=\"9\" />\n",
            "  <row Id=\"763\" TagName=\"manhattan\" Count=\"4\" ExcerptPostId=\"89005\" WikiPostId=\"89004\" />\n",
            "  <row Id=\"764\" TagName=\"mse\" Count=\"44\" ExcerptPostId=\"57264\" WikiPostId=\"57263\" />\n",
            "  <row Id=\"767\" TagName=\"lasso\" Count=\"48\" ExcerptPostId=\"53644\" WikiPostId=\"53643\" />\n",
            "  <row Id=\"769\" TagName=\"lightgbm\" Count=\"101\" />\n",
            "  <row Id=\"770\" TagName=\"pooling\" Count=\"19\" />\n",
            "  <row Id=\"772\" TagName=\"one-shot-learning\" Count=\"11\" />\n",
            "  <row Id=\"774\" TagName=\"feature-map\" Count=\"4\" />\n",
            "  <row Id=\"775\" TagName=\"movielens\" Count=\"8\" />\n",
            "  <row Id=\"776\" TagName=\"knime\" Count=\"5\" ExcerptPostId=\"57219\" WikiPostId=\"57218\" />\n",
            "  <row Id=\"779\" TagName=\"spacy\" Count=\"86\" ExcerptPostId=\"57215\" WikiPostId=\"57214\" />\n",
            "  <row Id=\"780\" TagName=\"allennlp\" Count=\"6\" ExcerptPostId=\"57217\" WikiPostId=\"57216\" />\n",
            "  <row Id=\"783\" TagName=\"tesseract\" Count=\"2\" ExcerptPostId=\"94466\" WikiPostId=\"94465\" />\n",
            "  <row Id=\"786\" TagName=\"pytorch-geometric\" Count=\"13\" />\n",
            "  <row Id=\"788\" TagName=\"stemming\" Count=\"4\" ExcerptPostId=\"57670\" WikiPostId=\"57669\" />\n",
            "  <row Id=\"789\" TagName=\"pickle\" Count=\"17\" ExcerptPostId=\"57668\" WikiPostId=\"57667\" />\n",
            "  <row Id=\"790\" TagName=\"multi-instance-learning\" Count=\"7\" />\n",
            "  <row Id=\"791\" TagName=\"arima\" Count=\"54\" ExcerptPostId=\"100084\" WikiPostId=\"100083\" />\n",
            "  <row Id=\"795\" TagName=\"causalimpact\" Count=\"13\" />\n",
            "  <row Id=\"799\" TagName=\"automl\" Count=\"18\" />\n",
            "  <row Id=\"801\" TagName=\"question-answering\" Count=\"28\" />\n",
            "  <row Id=\"802\" TagName=\"doc2vec\" Count=\"23\" />\n",
            "  <row Id=\"806\" TagName=\"networkx\" Count=\"8\" />\n",
            "  <row Id=\"808\" TagName=\"time\" Count=\"29\" />\n",
            "  <row Id=\"811\" TagName=\"sparsity\" Count=\"9\" />\n",
            "  <row Id=\"813\" TagName=\"multi-output\" Count=\"37\" />\n",
            "  <row Id=\"814\" TagName=\"corpus\" Count=\"20\" />\n",
            "  <row Id=\"816\" TagName=\"wikipedia\" Count=\"9\" ExcerptPostId=\"114182\" WikiPostId=\"114181\" />\n",
            "  <row Id=\"817\" TagName=\"siamese-networks\" Count=\"27\" />\n",
            "  <row Id=\"818\" TagName=\"semantic-similarity\" Count=\"44\" />\n",
            "  <row Id=\"819\" TagName=\"python-3.x\" Count=\"241\" ExcerptPostId=\"99621\" WikiPostId=\"99620\" />\n",
            "  <row Id=\"820\" TagName=\"statsmodels\" Count=\"52\" />\n",
            "  <row Id=\"822\" TagName=\"non-parametric\" Count=\"17\" />\n",
            "  <row Id=\"823\" TagName=\"bayesian-nonparametric\" Count=\"6\" />\n",
            "  <row Id=\"826\" TagName=\"huggingface\" Count=\"67\" />\n",
            "  <row Id=\"827\" TagName=\"image-segmentation\" Count=\"116\" />\n",
            "  <row Id=\"828\" TagName=\"adaboost\" Count=\"26\" />\n",
            "  <row Id=\"830\" TagName=\"rmse\" Count=\"28\" />\n",
            "  <row Id=\"831\" TagName=\"anova\" Count=\"17\" />\n",
            "  <row Id=\"833\" TagName=\"gru\" Count=\"30\" />\n",
            "  <row Id=\"834\" TagName=\"openai-gpt\" Count=\"63\" />\n",
            "  <row Id=\"836\" TagName=\"one-hot-encoding\" Count=\"134\" />\n",
            "  <row Id=\"838\" TagName=\"pruning\" Count=\"14\" />\n",
            "  <row Id=\"839\" TagName=\"multivariate-distribution\" Count=\"41\" />\n",
            "  <row Id=\"840\" TagName=\"auc\" Count=\"66\" />\n",
            "  <row Id=\"841\" TagName=\"ann\" Count=\"21\" />\n",
            "  <row Id=\"846\" TagName=\"least-squares-svm\" Count=\"3\" />\n",
            "  <row Id=\"847\" TagName=\"categorical-encoding\" Count=\"81\" />\n",
            "  <row Id=\"851\" TagName=\"groupby\" Count=\"32\" ExcerptPostId=\"64293\" WikiPostId=\"64292\" />\n",
            "  <row Id=\"852\" TagName=\"c++\" Count=\"10\" />\n",
            "  <row Id=\"853\" TagName=\"pearsons-correlation-coefficient\" Count=\"27\" />\n",
            "  <row Id=\"854\" TagName=\"spearmans-rank-correlation\" Count=\"9\" />\n",
            "  <row Id=\"855\" TagName=\"kendalls-tau-coefficient\" Count=\"4\" />\n",
            "  <row Id=\"856\" TagName=\"predict\" Count=\"21\" />\n",
            "  <row Id=\"859\" TagName=\"google-cloud\" Count=\"15\" />\n",
            "  <row Id=\"860\" TagName=\"spyder\" Count=\"7\" ExcerptPostId=\"89009\" WikiPostId=\"89008\" />\n",
            "  <row Id=\"863\" TagName=\"pattern-recognition\" Count=\"43\" />\n",
            "  <row Id=\"864\" TagName=\"text-classification\" Count=\"280\" ExcerptPostId=\"99623\" WikiPostId=\"99622\" />\n",
            "  <row Id=\"865\" TagName=\"3d-object-detection\" Count=\"6\" />\n",
            "  <row Id=\"867\" TagName=\"encoder\" Count=\"26\" />\n",
            "  <row Id=\"869\" TagName=\"linearly-separable\" Count=\"10\" />\n",
            "  <row Id=\"870\" TagName=\"data-engineering\" Count=\"28\" />\n",
            "  <row Id=\"871\" TagName=\"metaheuristics\" Count=\"7\" />\n",
            "  <row Id=\"874\" TagName=\"spectral-clustering\" Count=\"14\" />\n",
            "  <row Id=\"876\" TagName=\"sparse\" Count=\"33\" />\n",
            "  <row Id=\"877\" TagName=\"f1score\" Count=\"53\" />\n",
            "  <row Id=\"879\" TagName=\"natural-gradient-boosting\" Count=\"10\" />\n",
            "  <row Id=\"880\" TagName=\"ngboost\" Count=\"2\" />\n",
            "  <row Id=\"881\" TagName=\"linear-programming\" Count=\"6\" ExcerptPostId=\"89087\" WikiPostId=\"89086\" />\n",
            "  <row Id=\"882\" TagName=\"cart\" Count=\"14\" />\n",
            "  <row Id=\"883\" TagName=\"structural-equation-modelling\" Count=\"4\" />\n",
            "  <row Id=\"884\" TagName=\"exploratory-factor-analysis\" Count=\"13\" />\n",
            "  <row Id=\"886\" TagName=\"information-extraction\" Count=\"21\" />\n",
            "  <row Id=\"887\" TagName=\"mlflow\" Count=\"5\" />\n",
            "  <row Id=\"888\" TagName=\"shap\" Count=\"74\" />\n",
            "  <row Id=\"890\" TagName=\"hashingvectorizer\" Count=\"4\" />\n",
            "  <row Id=\"891\" TagName=\"naive-bayes-algorithim\" Count=\"13\" />\n",
            "  <row Id=\"895\" TagName=\"bokeh\" Count=\"2\" />\n",
            "  <row Id=\"896\" TagName=\"plotly\" Count=\"21\" ExcerptPostId=\"102805\" WikiPostId=\"102804\" />\n",
            "  <row Id=\"901\" TagName=\"mxnet\" Count=\"3\" />\n",
            "  <row Id=\"903\" TagName=\"tpu\" Count=\"7\" ExcerptPostId=\"68109\" WikiPostId=\"68108\" />\n",
            "  <row Id=\"904\" TagName=\"cuda\" Count=\"18\" />\n",
            "  <row Id=\"905\" TagName=\"isolation-forest\" Count=\"26\" />\n",
            "  <row Id=\"908\" TagName=\"interpretation\" Count=\"53\" />\n",
            "  <row Id=\"909\" TagName=\"elastic-net\" Count=\"12\" />\n",
            "  <row Id=\"913\" TagName=\"functional-api\" Count=\"4\" />\n",
            "  <row Id=\"914\" TagName=\"bagging\" Count=\"20\" />\n",
            "  <row Id=\"916\" TagName=\"chi-square-test\" Count=\"24\" />\n",
            "  <row Id=\"918\" TagName=\"target-encoding\" Count=\"15\" />\n",
            "  <row Id=\"920\" TagName=\"bootstraping\" Count=\"15\" />\n",
            "  <row Id=\"922\" TagName=\"confidence\" Count=\"27\" />\n",
            "  <row Id=\"924\" TagName=\"labelling\" Count=\"23\" />\n",
            "  <row Id=\"926\" TagName=\"gradient\" Count=\"37\" />\n",
            "  <row Id=\"927\" TagName=\"graphviz\" Count=\"3\" />\n",
            "  <row Id=\"928\" TagName=\"esl\" Count=\"4\" ExcerptPostId=\"90850\" WikiPostId=\"90849\" />\n",
            "  <row Id=\"931\" TagName=\"gnn\" Count=\"11\" />\n",
            "  <row Id=\"932\" TagName=\"graph-neural-network\" Count=\"54\" />\n",
            "  <row Id=\"933\" TagName=\"knowledge-graph\" Count=\"19\" />\n",
            "  <row Id=\"934\" TagName=\"early-stopping\" Count=\"20\" />\n",
            "  <row Id=\"935\" TagName=\"estimation\" Count=\"9\" />\n",
            "  <row Id=\"938\" TagName=\"fasttext\" Count=\"16\" />\n",
            "  <row Id=\"942\" TagName=\"lime\" Count=\"12\" ExcerptPostId=\"82667\" WikiPostId=\"82666\" />\n",
            "  <row Id=\"943\" TagName=\"derivation\" Count=\"16\" />\n",
            "  <row Id=\"947\" TagName=\"field-aware-factorization-machines\" Count=\"4\" />\n",
            "  <row Id=\"948\" TagName=\"hashing-trick\" Count=\"7\" />\n",
            "  <row Id=\"952\" TagName=\"roc\" Count=\"63\" />\n",
            "  <row Id=\"953\" TagName=\"windows\" Count=\"15\" />\n",
            "  <row Id=\"955\" TagName=\"document-term-matrix\" Count=\"6\" />\n",
            "  <row Id=\"956\" TagName=\"bag-of-words\" Count=\"19\" />\n",
            "  <row Id=\"957\" TagName=\"imbalance\" Count=\"9\" />\n",
            "  <row Id=\"958\" TagName=\"api\" Count=\"20\" />\n",
            "  <row Id=\"959\" TagName=\"permutation-test\" Count=\"3\" />\n",
            "  <row Id=\"960\" TagName=\"hypothesis-testing\" Count=\"52\" />\n",
            "  <row Id=\"961\" TagName=\"semantic-segmentation\" Count=\"53\" />\n",
            "  <row Id=\"963\" TagName=\"context-vector\" Count=\"3\" />\n",
            "  <row Id=\"965\" TagName=\"grammar-inference\" Count=\"5\" />\n",
            "  <row Id=\"966\" TagName=\"bart\" Count=\"5\" />\n",
            "  <row Id=\"967\" TagName=\"pretraining\" Count=\"28\" />\n",
            "  <row Id=\"971\" TagName=\"catboost\" Count=\"38\" />\n",
            "  <row Id=\"972\" TagName=\"boruta\" Count=\"4\" />\n",
            "  <row Id=\"973\" TagName=\"poisson\" Count=\"8\" ExcerptPostId=\"88266\" WikiPostId=\"88265\" />\n",
            "  <row Id=\"974\" TagName=\"google-data-studio\" Count=\"5\" ExcerptPostId=\"80763\" WikiPostId=\"80762\" />\n",
            "  <row Id=\"975\" TagName=\"google-bigquery\" Count=\"10\" ExcerptPostId=\"80765\" WikiPostId=\"80764\" />\n",
            "  <row Id=\"976\" TagName=\"google-cloud-platform\" Count=\"7\" ExcerptPostId=\"80768\" WikiPostId=\"80767\" />\n",
            "  <row Id=\"978\" TagName=\"document-understanding\" Count=\"7\" />\n",
            "  <row Id=\"979\" TagName=\"cause-and-effect\" Count=\"4\" />\n",
            "  <row Id=\"980\" TagName=\"loss\" Count=\"41\" />\n",
            "  <row Id=\"985\" TagName=\"stacking\" Count=\"16\" />\n",
            "  <row Id=\"987\" TagName=\"normal\" Count=\"4\" />\n",
            "  <row Id=\"988\" TagName=\"mean\" Count=\"11\" />\n",
            "  <row Id=\"990\" TagName=\"rfe\" Count=\"9\" />\n",
            "  <row Id=\"994\" TagName=\"sgd\" Count=\"18\" ExcerptPostId=\"88154\" WikiPostId=\"88153\" />\n",
            "  <row Id=\"997\" TagName=\"federated-learning\" Count=\"9\" ExcerptPostId=\"89089\" WikiPostId=\"89088\" />\n",
            "  <row Id=\"998\" TagName=\"concept-drift\" Count=\"8\" />\n",
            "  <row Id=\"999\" TagName=\"validation\" Count=\"58\" />\n",
            "  <row Id=\"1002\" TagName=\"mlops\" Count=\"23\" />\n",
            "  <row Id=\"1006\" TagName=\"goodness-of-fit\" Count=\"7\" />\n",
            "  <row Id=\"1007\" TagName=\"r-squared\" Count=\"17\" ExcerptPostId=\"89092\" WikiPostId=\"89091\" />\n",
            "  <row Id=\"1008\" TagName=\"partial-least-squares\" Count=\"6\" ExcerptPostId=\"88023\" WikiPostId=\"88022\" />\n",
            "  <row Id=\"1010\" TagName=\"entity-linking\" Count=\"8\" />\n",
            "  <row Id=\"1011\" TagName=\"dynamic-time-warping\" Count=\"15\" />\n",
            "  <row Id=\"1016\" TagName=\"linear-models\" Count=\"23\" ExcerptPostId=\"100513\" WikiPostId=\"100512\" />\n",
            "  <row Id=\"1021\" TagName=\"pasting\" Count=\"3\" />\n",
            "  <row Id=\"1022\" TagName=\"time-complexity\" Count=\"10\" />\n",
            "  <row Id=\"1023\" TagName=\"memory\" Count=\"21\" />\n",
            "  <row Id=\"1026\" TagName=\"pvalue\" Count=\"15\" />\n",
            "  <row Id=\"1027\" TagName=\"data-table\" Count=\"20\" />\n",
            "  <row Id=\"1028\" TagName=\"logarithmic\" Count=\"18\" />\n",
            "  <row Id=\"1029\" TagName=\"wasserstein\" Count=\"3\" ExcerptPostId=\"100411\" WikiPostId=\"100410\" />\n",
            "  <row Id=\"1030\" TagName=\"cyclegan\" Count=\"4\" />\n",
            "  <row Id=\"1032\" TagName=\"masking\" Count=\"9\" />\n",
            "  <row Id=\"1033\" TagName=\"transformation\" Count=\"36\" />\n",
            "  <row Id=\"1036\" TagName=\"gradient-boosting-decision-trees\" Count=\"46\" />\n",
            "  <row Id=\"1038\" TagName=\"partial-dependence-plot\" Count=\"3\" ExcerptPostId=\"89832\" WikiPostId=\"89831\" />\n",
            "  <row Id=\"1040\" TagName=\"convolutional-neural-network\" Count=\"734\" ExcerptPostId=\"90249\" WikiPostId=\"90248\" />\n",
            "  <row Id=\"1046\" TagName=\"agglomerative\" Count=\"3\" />\n",
            "  <row Id=\"1048\" TagName=\"tensorboard\" Count=\"6\" ExcerptPostId=\"89980\" WikiPostId=\"89979\" />\n",
            "  <row Id=\"1049\" TagName=\"adversarial-ml\" Count=\"9\" />\n",
            "  <row Id=\"1050\" TagName=\"intuition\" Count=\"3\" ExcerptPostId=\"89978\" WikiPostId=\"89977\" />\n",
            "  <row Id=\"1051\" TagName=\"feature-interaction\" Count=\"4\" ExcerptPostId=\"94462\" WikiPostId=\"94461\" />\n",
            "  <row Id=\"1052\" TagName=\"feature-importances\" Count=\"38\" />\n",
            "  <row Id=\"1053\" TagName=\"perplexity\" Count=\"2\" ExcerptPostId=\"94464\" WikiPostId=\"94463\" />\n",
            "  <row Id=\"1054\" TagName=\"coherence\" Count=\"3\" />\n",
            "  <row Id=\"1055\" TagName=\"model-evaluations\" Count=\"42\" ExcerptPostId=\"90194\" WikiPostId=\"90193\" />\n",
            "  <row Id=\"1060\" TagName=\"inference\" Count=\"29\" />\n",
            "  <row Id=\"1061\" TagName=\"reward\" Count=\"4\" ExcerptPostId=\"91068\" WikiPostId=\"91067\" />\n",
            "  <row Id=\"1062\" TagName=\"sigmoid\" Count=\"11\" />\n",
            "  <row Id=\"1063\" TagName=\"oversampling\" Count=\"13\" />\n",
            "  <row Id=\"1064\" TagName=\"imbalanced-data\" Count=\"43\" />\n",
            "  <row Id=\"1069\" TagName=\"torchvision\" Count=\"5\" />\n",
            "  <row Id=\"1071\" TagName=\"data-quality\" Count=\"8\" />\n",
            "  <row Id=\"1072\" TagName=\"recurrent-neural-network\" Count=\"22\" />\n",
            "  <row Id=\"1077\" TagName=\"binary-classification\" Count=\"124\" />\n",
            "  <row Id=\"1087\" TagName=\"best-practice\" Count=\"4\" />\n",
            "  <row Id=\"1092\" TagName=\"rapidminer\" Count=\"2\" />\n",
            "  <row Id=\"1094\" TagName=\"one-class-classification\" Count=\"4\" />\n",
            "  <row Id=\"1095\" TagName=\"histogram\" Count=\"29\" ExcerptPostId=\"114208\" WikiPostId=\"114207\" />\n",
            "  <row Id=\"1098\" TagName=\"uncertainty\" Count=\"16\" />\n",
            "  <row Id=\"1100\" TagName=\"flask\" Count=\"3\" />\n",
            "  <row Id=\"1103\" TagName=\"rasa-nlu\" Count=\"3\" />\n",
            "  <row Id=\"1106\" TagName=\"gini-index\" Count=\"4\" ExcerptPostId=\"102451\" WikiPostId=\"102450\" />\n",
            "  <row Id=\"1108\" TagName=\"real-ml-usecase\" Count=\"6\" />\n",
            "  <row Id=\"1113\" TagName=\"hpc\" Count=\"5\" ExcerptPostId=\"103342\" WikiPostId=\"103341\" />\n",
            "  <row Id=\"1115\" TagName=\"cross-entropy\" Count=\"22\" />\n",
            "  <row Id=\"1118\" TagName=\"logistic\" Count=\"7\" />\n",
            "  <row Id=\"1120\" TagName=\"text-processing\" Count=\"5\" />\n",
            "  <row Id=\"1121\" TagName=\"test\" Count=\"11\" />\n",
            "  <row Id=\"1125\" TagName=\"pacf\" Count=\"6\" />\n",
            "  <row Id=\"1127\" TagName=\"functions\" Count=\"7\" />\n",
            "  <row Id=\"1129\" TagName=\"custom-layer\" Count=\"3\" />\n",
            "  <row Id=\"1130\" TagName=\"bar-chart\" Count=\"3\" />\n",
            "  <row Id=\"1131\" TagName=\"hashing\" Count=\"3\" />\n",
            "  <row Id=\"1133\" TagName=\"conda\" Count=\"4\" />\n",
            "  <row Id=\"1137\" TagName=\"universal-approximation-theorem\" Count=\"5\" />\n",
            "  <row Id=\"1138\" TagName=\"data-drift\" Count=\"7\" />\n",
            "  <row Id=\"1139\" TagName=\"few-shot-learning\" Count=\"5\" />\n",
            "  <row Id=\"1141\" TagName=\"labeling\" Count=\"4\" />\n",
            "  <row Id=\"1145\" TagName=\"elastic-search\" Count=\"3\" />\n",
            "  <row Id=\"1152\" TagName=\"pcamixdata\" Count=\"4\" />\n",
            "  <row Id=\"1154\" TagName=\"facebook\" Count=\"2\" />\n",
            "  <row Id=\"1157\" TagName=\"caret\" Count=\"2\" />\n",
            "  <row Id=\"1161\" TagName=\"pymc3\" Count=\"2\" ExcerptPostId=\"114178\" WikiPostId=\"114177\" />\n",
            "  <row Id=\"1162\" TagName=\"deployment\" Count=\"17\" />\n",
            "  <row Id=\"1166\" TagName=\"odds\" Count=\"3\" />\n",
            "  <row Id=\"1168\" TagName=\"ethical-ai\" Count=\"3\" />\n",
            "  <row Id=\"1170\" TagName=\"deepar\" Count=\"2\" />\n",
            "  <row Id=\"1172\" TagName=\"kalman-filter\" Count=\"10\" />\n",
            "  <row Id=\"1173\" TagName=\"retraining\" Count=\"6\" />\n",
            "  <row Id=\"1175\" TagName=\"knowledge-distillation\" Count=\"3\" />\n",
            "  <row Id=\"1176\" TagName=\"pycaret\" Count=\"2\" />\n",
            "  <row Id=\"1178\" TagName=\"hdbscan\" Count=\"1\" />\n",
            "  <row Id=\"1179\" TagName=\"taxonomy\" Count=\"2\" />\n",
            "  <row Id=\"1180\" TagName=\"symbolic-learning\" Count=\"2\" />\n",
            "  <row Id=\"1181\" TagName=\"feedback-loop\" Count=\"2\" />\n",
            "  <row Id=\"1182\" TagName=\"precision-recall-curve\" Count=\"6\" />\n",
            "  <row Id=\"1183\" TagName=\"backtest\" Count=\"1\" />\n",
            "  <row Id=\"1184\" TagName=\"shadow-deployment\" Count=\"1\" />\n",
            "  <row Id=\"1185\" TagName=\"combinatorics\" Count=\"2\" />\n",
            "  <row Id=\"1186\" TagName=\"rocr-package\" Count=\"1\" />\n",
            "  <row Id=\"1187\" TagName=\"list\" Count=\"1\" />\n",
            "  <row Id=\"1188\" TagName=\"dictionary\" Count=\"2\" />\n",
            "  <row Id=\"1190\" TagName=\"duplicate\" Count=\"1\" />\n",
            "  <row Id=\"1192\" TagName=\"entity-matching\" Count=\"1\" />\n",
            "  <row Id=\"1193\" TagName=\"knowledge-canonicalization\" Count=\"1\" />\n",
            "  <row Id=\"1196\" TagName=\"mysql\" Count=\"1\" />\n",
            "  <row Id=\"1197\" TagName=\"fourier\" Count=\"1\" />\n",
            "  <row Id=\"1198\" TagName=\"prophet\" Count=\"3\" />\n",
            "  <row Id=\"1199\" TagName=\"cost-sensitive-learning\" Count=\"1\" />\n",
            "  <row Id=\"1200\" TagName=\"umap\" Count=\"2\" />\n",
            "  <row Id=\"1201\" TagName=\"classificationmulti\" Count=\"1\" />\n",
            "  <row Id=\"1202\" TagName=\"data-source\" Count=\"1\" />\n",
            "  <row Id=\"1203\" TagName=\"share-point\" Count=\"1\" />\n",
            "  <row Id=\"1205\" TagName=\"kedro\" Count=\"1\" />\n",
            "  <row Id=\"1206\" TagName=\"entropy\" Count=\"1\" />\n",
            "  <row Id=\"1210\" TagName=\"conformalprediction\" Count=\"1\" />\n",
            "  <row Id=\"1211\" TagName=\"replication\" Count=\"2\" />\n",
            "  <row Id=\"1212\" TagName=\"git\" Count=\"1\" />\n",
            "  <row Id=\"1213\" TagName=\"reproducibility\" Count=\"2\" />\n",
            "  <row Id=\"1214\" TagName=\"python-polars\" Count=\"3\" />\n",
            "  <row Id=\"1215\" TagName=\"train\" Count=\"1\" />\n",
            "  <row Id=\"1216\" TagName=\"analysis\" Count=\"1\" />\n",
            "  <row Id=\"1217\" TagName=\"lemmatization\" Count=\"1\" />\n",
            "  <row Id=\"1218\" TagName=\"text-to-columns\" Count=\"1\" />\n",
            "  <row Id=\"1219\" TagName=\"t\" Count=\"1\" />\n",
            "</tags>\n"
          ]
        }
      ],
      "source": [
        "with open(os.path.join(DATA_PATH, 'Tags.xml'), 'r') as f:\n",
        "  raw_xml = f.read()\n",
        "print(raw_xml)"
      ]
    },
    {
      "cell_type": "markdown",
      "metadata": {
        "id": "oZJBY1b8xUPI"
      },
      "source": [
        "### XML Extraction example for Tags file\n",
        "Here is a method to read these XML files easily as a pandas DataFrame."
      ]
    },
    {
      "cell_type": "code",
      "execution_count": 15,
      "metadata": {
        "id": "nhGdQYNqrD7G"
      },
      "outputs": [],
      "source": [
        "tags = pd.read_xml(os.path.join(DATA_PATH, 'Tags.xml'), parser=\"etree\", encoding=\"utf8\")"
      ]
    },
    {
      "cell_type": "code",
      "execution_count": 16,
      "metadata": {
        "colab": {
          "base_uri": "https://localhost:8080/",
          "height": 423
        },
        "id": "I67TIuTirGL5",
        "outputId": "5c6e0e51-d3e4-4216-df71-a35dc29bc864"
      },
      "outputs": [
        {
          "output_type": "execute_result",
          "data": {
            "text/plain": [
              "       Id           TagName  Count  ExcerptPostId  WikiPostId\n",
              "0       1       definitions     36          105.0       104.0\n",
              "1       2  machine-learning  11059         4909.0      4908.0\n",
              "2       3           bigdata    462           66.0        65.0\n",
              "3       5       data-mining   1172           80.0        79.0\n",
              "4       6         databases     95         8960.0      8959.0\n",
              "..    ...               ...    ...            ...         ...\n",
              "674  1215             train      1            NaN         NaN\n",
              "675  1216          analysis      1            NaN         NaN\n",
              "676  1217     lemmatization      1            NaN         NaN\n",
              "677  1218   text-to-columns      1            NaN         NaN\n",
              "678  1219                 t      1            NaN         NaN\n",
              "\n",
              "[679 rows x 5 columns]"
            ],
            "text/html": [
              "\n",
              "  <div id=\"df-80469590-879a-4d91-b67f-1e61ce211526\">\n",
              "    <div class=\"colab-df-container\">\n",
              "      <div>\n",
              "<style scoped>\n",
              "    .dataframe tbody tr th:only-of-type {\n",
              "        vertical-align: middle;\n",
              "    }\n",
              "\n",
              "    .dataframe tbody tr th {\n",
              "        vertical-align: top;\n",
              "    }\n",
              "\n",
              "    .dataframe thead th {\n",
              "        text-align: right;\n",
              "    }\n",
              "</style>\n",
              "<table border=\"1\" class=\"dataframe\">\n",
              "  <thead>\n",
              "    <tr style=\"text-align: right;\">\n",
              "      <th></th>\n",
              "      <th>Id</th>\n",
              "      <th>TagName</th>\n",
              "      <th>Count</th>\n",
              "      <th>ExcerptPostId</th>\n",
              "      <th>WikiPostId</th>\n",
              "    </tr>\n",
              "  </thead>\n",
              "  <tbody>\n",
              "    <tr>\n",
              "      <th>0</th>\n",
              "      <td>1</td>\n",
              "      <td>definitions</td>\n",
              "      <td>36</td>\n",
              "      <td>105.0</td>\n",
              "      <td>104.0</td>\n",
              "    </tr>\n",
              "    <tr>\n",
              "      <th>1</th>\n",
              "      <td>2</td>\n",
              "      <td>machine-learning</td>\n",
              "      <td>11059</td>\n",
              "      <td>4909.0</td>\n",
              "      <td>4908.0</td>\n",
              "    </tr>\n",
              "    <tr>\n",
              "      <th>2</th>\n",
              "      <td>3</td>\n",
              "      <td>bigdata</td>\n",
              "      <td>462</td>\n",
              "      <td>66.0</td>\n",
              "      <td>65.0</td>\n",
              "    </tr>\n",
              "    <tr>\n",
              "      <th>3</th>\n",
              "      <td>5</td>\n",
              "      <td>data-mining</td>\n",
              "      <td>1172</td>\n",
              "      <td>80.0</td>\n",
              "      <td>79.0</td>\n",
              "    </tr>\n",
              "    <tr>\n",
              "      <th>4</th>\n",
              "      <td>6</td>\n",
              "      <td>databases</td>\n",
              "      <td>95</td>\n",
              "      <td>8960.0</td>\n",
              "      <td>8959.0</td>\n",
              "    </tr>\n",
              "    <tr>\n",
              "      <th>...</th>\n",
              "      <td>...</td>\n",
              "      <td>...</td>\n",
              "      <td>...</td>\n",
              "      <td>...</td>\n",
              "      <td>...</td>\n",
              "    </tr>\n",
              "    <tr>\n",
              "      <th>674</th>\n",
              "      <td>1215</td>\n",
              "      <td>train</td>\n",
              "      <td>1</td>\n",
              "      <td>NaN</td>\n",
              "      <td>NaN</td>\n",
              "    </tr>\n",
              "    <tr>\n",
              "      <th>675</th>\n",
              "      <td>1216</td>\n",
              "      <td>analysis</td>\n",
              "      <td>1</td>\n",
              "      <td>NaN</td>\n",
              "      <td>NaN</td>\n",
              "    </tr>\n",
              "    <tr>\n",
              "      <th>676</th>\n",
              "      <td>1217</td>\n",
              "      <td>lemmatization</td>\n",
              "      <td>1</td>\n",
              "      <td>NaN</td>\n",
              "      <td>NaN</td>\n",
              "    </tr>\n",
              "    <tr>\n",
              "      <th>677</th>\n",
              "      <td>1218</td>\n",
              "      <td>text-to-columns</td>\n",
              "      <td>1</td>\n",
              "      <td>NaN</td>\n",
              "      <td>NaN</td>\n",
              "    </tr>\n",
              "    <tr>\n",
              "      <th>678</th>\n",
              "      <td>1219</td>\n",
              "      <td>t</td>\n",
              "      <td>1</td>\n",
              "      <td>NaN</td>\n",
              "      <td>NaN</td>\n",
              "    </tr>\n",
              "  </tbody>\n",
              "</table>\n",
              "<p>679 rows × 5 columns</p>\n",
              "</div>\n",
              "      <button class=\"colab-df-convert\" onclick=\"convertToInteractive('df-80469590-879a-4d91-b67f-1e61ce211526')\"\n",
              "              title=\"Convert this dataframe to an interactive table.\"\n",
              "              style=\"display:none;\">\n",
              "        \n",
              "  <svg xmlns=\"http://www.w3.org/2000/svg\" height=\"24px\"viewBox=\"0 0 24 24\"\n",
              "       width=\"24px\">\n",
              "    <path d=\"M0 0h24v24H0V0z\" fill=\"none\"/>\n",
              "    <path d=\"M18.56 5.44l.94 2.06.94-2.06 2.06-.94-2.06-.94-.94-2.06-.94 2.06-2.06.94zm-11 1L8.5 8.5l.94-2.06 2.06-.94-2.06-.94L8.5 2.5l-.94 2.06-2.06.94zm10 10l.94 2.06.94-2.06 2.06-.94-2.06-.94-.94-2.06-.94 2.06-2.06.94z\"/><path d=\"M17.41 7.96l-1.37-1.37c-.4-.4-.92-.59-1.43-.59-.52 0-1.04.2-1.43.59L10.3 9.45l-7.72 7.72c-.78.78-.78 2.05 0 2.83L4 21.41c.39.39.9.59 1.41.59.51 0 1.02-.2 1.41-.59l7.78-7.78 2.81-2.81c.8-.78.8-2.07 0-2.86zM5.41 20L4 18.59l7.72-7.72 1.47 1.35L5.41 20z\"/>\n",
              "  </svg>\n",
              "      </button>\n",
              "      \n",
              "  <style>\n",
              "    .colab-df-container {\n",
              "      display:flex;\n",
              "      flex-wrap:wrap;\n",
              "      gap: 12px;\n",
              "    }\n",
              "\n",
              "    .colab-df-convert {\n",
              "      background-color: #E8F0FE;\n",
              "      border: none;\n",
              "      border-radius: 50%;\n",
              "      cursor: pointer;\n",
              "      display: none;\n",
              "      fill: #1967D2;\n",
              "      height: 32px;\n",
              "      padding: 0 0 0 0;\n",
              "      width: 32px;\n",
              "    }\n",
              "\n",
              "    .colab-df-convert:hover {\n",
              "      background-color: #E2EBFA;\n",
              "      box-shadow: 0px 1px 2px rgba(60, 64, 67, 0.3), 0px 1px 3px 1px rgba(60, 64, 67, 0.15);\n",
              "      fill: #174EA6;\n",
              "    }\n",
              "\n",
              "    [theme=dark] .colab-df-convert {\n",
              "      background-color: #3B4455;\n",
              "      fill: #D2E3FC;\n",
              "    }\n",
              "\n",
              "    [theme=dark] .colab-df-convert:hover {\n",
              "      background-color: #434B5C;\n",
              "      box-shadow: 0px 1px 3px 1px rgba(0, 0, 0, 0.15);\n",
              "      filter: drop-shadow(0px 1px 2px rgba(0, 0, 0, 0.3));\n",
              "      fill: #FFFFFF;\n",
              "    }\n",
              "  </style>\n",
              "\n",
              "      <script>\n",
              "        const buttonEl =\n",
              "          document.querySelector('#df-80469590-879a-4d91-b67f-1e61ce211526 button.colab-df-convert');\n",
              "        buttonEl.style.display =\n",
              "          google.colab.kernel.accessAllowed ? 'block' : 'none';\n",
              "\n",
              "        async function convertToInteractive(key) {\n",
              "          const element = document.querySelector('#df-80469590-879a-4d91-b67f-1e61ce211526');\n",
              "          const dataTable =\n",
              "            await google.colab.kernel.invokeFunction('convertToInteractive',\n",
              "                                                     [key], {});\n",
              "          if (!dataTable) return;\n",
              "\n",
              "          const docLinkHtml = 'Like what you see? Visit the ' +\n",
              "            '<a target=\"_blank\" href=https://colab.research.google.com/notebooks/data_table.ipynb>data table notebook</a>'\n",
              "            + ' to learn more about interactive tables.';\n",
              "          element.innerHTML = '';\n",
              "          dataTable['output_type'] = 'display_data';\n",
              "          await google.colab.output.renderOutput(dataTable, element);\n",
              "          const docLink = document.createElement('div');\n",
              "          docLink.innerHTML = docLinkHtml;\n",
              "          element.appendChild(docLink);\n",
              "        }\n",
              "      </script>\n",
              "    </div>\n",
              "  </div>\n",
              "  "
            ]
          },
          "metadata": {},
          "execution_count": 16
        }
      ],
      "source": [
        "tags"
      ]
    },
    {
      "cell_type": "markdown",
      "metadata": {
        "id": "LwP3rCDsyCHp"
      },
      "source": [
        "There are several other files in the extracted folder:"
      ]
    },
    {
      "cell_type": "code",
      "execution_count": 17,
      "metadata": {
        "colab": {
          "base_uri": "https://localhost:8080/"
        },
        "id": "w2o52jt7yJ51",
        "outputId": "3c326610-7b13-4848-ec9e-00ad10587396"
      },
      "outputs": [
        {
          "output_type": "execute_result",
          "data": {
            "text/plain": [
              "['Badges.xml',\n",
              " 'Comments.xml',\n",
              " 'PostHistory.xml',\n",
              " 'Tags.xml',\n",
              " 'PostLinks.xml',\n",
              " 'Posts.xml',\n",
              " 'Users.xml',\n",
              " 'Votes.xml',\n",
              " 'embeddings.pkl',\n",
              " 'df.pkl',\n",
              " 'inverted_index.pkl']"
            ]
          },
          "metadata": {},
          "execution_count": 17
        }
      ],
      "source": [
        "os.listdir(DATA_PATH)"
      ]
    },
    {
      "cell_type": "markdown",
      "metadata": {
        "id": "C1wORbZGyMMo"
      },
      "source": [
        "In the next part you will do some exploration on them, starting with the more important one: Posts.xml. It contains the many posts of the selected topic: \"data science\"."
      ]
    },
    {
      "cell_type": "markdown",
      "metadata": {
        "id": "TrRSDOzPrLet"
      },
      "source": [
        "## Data Exploration\n",
        "\n",
        "In this part, you have to work on Posts.xml file.\n",
        "\n",
        "\n",
        "You can find a cheat sheet of pandas basic syntax at: https://pandas.pydata.org/Pandas_Cheat_Sheet.pdf"
      ]
    },
    {
      "cell_type": "code",
      "execution_count": 18,
      "metadata": {
        "id": "TpZTYciRrIIs"
      },
      "outputs": [],
      "source": [
        "posts = pd.read_xml(os.path.join(DATA_PATH, 'Posts.xml'), parser=\"etree\", encoding=\"utf8\")\n",
        "badges = pd.read_xml(os.path.join(DATA_PATH, 'Badges.xml'), parser=\"etree\", encoding=\"utf8\")\n",
        "comments = pd.read_xml(os.path.join(DATA_PATH, 'Comments.xml'), parser=\"etree\", encoding=\"utf8\")\n",
        "post_history = pd.read_xml(os.path.join(DATA_PATH, 'PostHistory.xml'), parser=\"etree\", encoding=\"utf8\")\n",
        "post_links = pd.read_xml(os.path.join(DATA_PATH, 'PostLinks.xml'), parser=\"etree\", encoding=\"utf8\")\n",
        "tags = pd.read_xml(os.path.join(DATA_PATH, 'Tags.xml'), parser=\"etree\", encoding=\"utf8\")\n",
        "users = pd.read_xml(os.path.join(DATA_PATH, 'Users.xml'), parser=\"etree\", encoding=\"utf8\")\n",
        "votes = pd.read_xml(os.path.join(DATA_PATH, 'Votes.xml'), parser=\"etree\", encoding=\"utf8\")\n",
        "\n"
      ]
    },
    {
      "cell_type": "code",
      "execution_count": 19,
      "metadata": {
        "colab": {
          "base_uri": "https://localhost:8080/"
        },
        "id": "ZeGfUGDnrSpE",
        "outputId": "f61d6521-fa8e-4cd6-9ba5-0535a254616b"
      },
      "outputs": [
        {
          "output_type": "stream",
          "name": "stdout",
          "text": [
            "Size of the file : 1665994\n"
          ]
        }
      ],
      "source": [
        "# What is the size of this file ?\n",
        "print('Size of the file : '+ str(posts.size))"
      ]
    },
    {
      "cell_type": "code",
      "execution_count": 36,
      "metadata": {
        "id": "hvPpey1brruH"
      },
      "outputs": [],
      "source": [
        "# What is the schema of the posts table ?\n",
        "# Get the schema as a pandas DataFrame\n",
        "schema_posts = pd.DataFrame(posts.dtypes, columns=['DataType'])\n",
        "schema_badges = pd.DataFrame(badges.dtypes, columns=['DataType'])\n",
        "schema_comments = pd.DataFrame(comments.dtypes, columns=['DataType'])\n",
        "schema_post_history = pd.DataFrame(post_history.dtypes, columns=['DataType'])\n",
        "schema_post_links = pd.DataFrame(post_links.dtypes, columns=['DataType'])\n",
        "schema_tags = pd.DataFrame(tags.dtypes, columns=['DataType'])\n",
        "schema_users = pd.DataFrame(users.dtypes, columns=['DataType'])\n",
        "schema_votes = pd.DataFrame(votes.dtypes, columns=['DataType'])\n"
      ]
    },
    {
      "cell_type": "markdown",
      "source": [
        "**Schémas relationnels de toutes les bases de données**"
      ],
      "metadata": {
        "id": "5yNxb6eBP7Z5"
      }
    },
    {
      "cell_type": "code",
      "source": [
        "# What is the schema of the posts table ?\n",
        "# Get the schema as a pandas DataFrame\n",
        "schema_posts = pd.DataFrame(posts.dtypes, columns=['DataType'])\n",
        "schema_badges = pd.DataFrame(badges.dtypes, columns=['DataType'])\n",
        "schema_comments = pd.DataFrame(comments.dtypes, columns=['DataType'])\n",
        "schema_post_history = pd.DataFrame(post_history.dtypes, columns=['DataType'])\n",
        "schema_post_links = pd.DataFrame(post_links.dtypes, columns=['DataType'])\n",
        "schema_tags = pd.DataFrame(tags.dtypes, columns=['DataType'])\n",
        "schema_users = pd.DataFrame(users.dtypes, columns=['DataType'])\n",
        "schema_votes = pd.DataFrame(votes.dtypes, columns=['DataType'])\n",
        "\n",
        "print('schema posts')\n",
        "print(schema_posts)\n",
        "\n",
        "print('schema badges')\n",
        "print(schema_badges)\n",
        "\n",
        "print('schema comments')\n",
        "print(schema_comments)\n",
        "\n",
        "print('schema posthistory')\n",
        "print(schema_post_history)\n",
        "\n",
        "print('schema_post_links')\n",
        "print(schema_post_links)\n",
        "\n",
        "print('schema_tags')\n",
        "print(schema_tags)\n",
        "\n",
        "print('schema_posts')\n",
        "print(schema_posts)\n",
        "\n",
        "print('schema_users')\n",
        "print(schema_users)\n",
        "\n",
        "print('schema_votes')\n",
        "print(schema_votes)"
      ],
      "metadata": {
        "colab": {
          "base_uri": "https://localhost:8080/"
        },
        "id": "Utnd8ktxP6MJ",
        "outputId": "5aa7d485-3bb6-4ae3-d80f-cc721be37780"
      },
      "execution_count": 37,
      "outputs": [
        {
          "output_type": "stream",
          "name": "stdout",
          "text": [
            "schema posts\n",
            "                      DataType\n",
            "Id                       int64\n",
            "PostTypeId               int64\n",
            "CreationDate            object\n",
            "Score                    int64\n",
            "ViewCount              float64\n",
            "Body                    object\n",
            "OwnerUserId            float64\n",
            "LastActivityDate        object\n",
            "Title                   object\n",
            "Tags                    object\n",
            "AnswerCount            float64\n",
            "CommentCount             int64\n",
            "ClosedDate              object\n",
            "ContentLicense          object\n",
            "AcceptedAnswerId       float64\n",
            "LastEditorUserId       float64\n",
            "LastEditDate            object\n",
            "ParentId               float64\n",
            "OwnerDisplayName        object\n",
            "CommunityOwnedDate      object\n",
            "LastEditorDisplayName   object\n",
            "FavoriteCount          float64\n",
            "schema badges\n",
            "         DataType\n",
            "Id          int64\n",
            "UserId      int64\n",
            "Name       object\n",
            "Date       object\n",
            "Class       int64\n",
            "TagBased     bool\n",
            "schema comments\n",
            "                DataType\n",
            "Id                 int64\n",
            "PostId             int64\n",
            "Score              int64\n",
            "Text              object\n",
            "CreationDate      object\n",
            "UserId           float64\n",
            "ContentLicense    object\n",
            "UserDisplayName   object\n",
            "schema posthistory\n",
            "                  DataType\n",
            "Id                   int64\n",
            "PostHistoryTypeId    int64\n",
            "PostId               int64\n",
            "RevisionGUID        object\n",
            "CreationDate        object\n",
            "UserId             float64\n",
            "Text                object\n",
            "ContentLicense      object\n",
            "Comment             object\n",
            "UserDisplayName     object\n",
            "schema_post_links\n",
            "              DataType\n",
            "Id               int64\n",
            "CreationDate    object\n",
            "PostId           int64\n",
            "RelatedPostId    int64\n",
            "LinkTypeId       int64\n",
            "schema_tags\n",
            "              DataType\n",
            "Id               int64\n",
            "TagName         object\n",
            "Count            int64\n",
            "ExcerptPostId  float64\n",
            "WikiPostId     float64\n",
            "schema_posts\n",
            "                      DataType\n",
            "Id                       int64\n",
            "PostTypeId               int64\n",
            "CreationDate            object\n",
            "Score                    int64\n",
            "ViewCount              float64\n",
            "Body                    object\n",
            "OwnerUserId            float64\n",
            "LastActivityDate        object\n",
            "Title                   object\n",
            "Tags                    object\n",
            "AnswerCount            float64\n",
            "CommentCount             int64\n",
            "ClosedDate              object\n",
            "ContentLicense          object\n",
            "AcceptedAnswerId       float64\n",
            "LastEditorUserId       float64\n",
            "LastEditDate            object\n",
            "ParentId               float64\n",
            "OwnerDisplayName        object\n",
            "CommunityOwnedDate      object\n",
            "LastEditorDisplayName   object\n",
            "FavoriteCount          float64\n",
            "schema_users\n",
            "               DataType\n",
            "Id                int64\n",
            "Reputation        int64\n",
            "CreationDate     object\n",
            "DisplayName      object\n",
            "LastAccessDate   object\n",
            "WebsiteUrl       object\n",
            "Location         object\n",
            "AboutMe          object\n",
            "Views             int64\n",
            "UpVotes           int64\n",
            "DownVotes         int64\n",
            "AccountId       float64\n",
            "schema_votes\n",
            "             DataType\n",
            "Id              int64\n",
            "PostId          int64\n",
            "VoteTypeId      int64\n",
            "CreationDate   object\n",
            "UserId        float64\n",
            "BountyAmount  float64\n"
          ]
        }
      ]
    },
    {
      "cell_type": "code",
      "execution_count": 23,
      "metadata": {
        "colab": {
          "base_uri": "https://localhost:8080/"
        },
        "id": "MpItDd1Truqv",
        "outputId": "f5f27b4f-d9fa-40e0-b039-ebf91a0e5327"
      },
      "outputs": [
        {
          "output_type": "stream",
          "name": "stdout",
          "text": [
            "Mean number of new posts by user: 2.9162826718296224\n"
          ]
        }
      ],
      "source": [
        "# Give the mean number of new posts by user \n",
        "\n",
        "#The most simple method for pandas groupby count is by using the in-built pandas method named size()\n",
        "#It returns a pandas series that possess the total number of row count for each group\n",
        "mean_nb_of_posts_by_user = posts.groupby('OwnerUserId').size().mean()\n",
        "print ('Mean number of new posts by user: '+ str(mean_nb_of_posts_by_user))\n"
      ]
    },
    {
      "cell_type": "code",
      "execution_count": 38,
      "metadata": {
        "id": "YQ2rUO4DrxMU"
      },
      "outputs": [],
      "source": [
        "# Run some other queries to get a better understanding of the \"Posts\" table\n"
      ]
    },
    {
      "cell_type": "code",
      "execution_count": 24,
      "metadata": {
        "colab": {
          "base_uri": "https://localhost:8080/"
        },
        "id": "YF3gaLhlFreF",
        "outputId": "337ba3b5-5883-4299-8a29-91bf46a2976c"
      },
      "outputs": [
        {
          "output_type": "stream",
          "name": "stderr",
          "text": [
            "<ipython-input-24-bc4a1506c9e4>:6: FutureWarning: In a future version of pandas all arguments of DataFrame.sort_values except for the argument 'by' will be keyword-only.\n",
            "  smallest_post_content =posts.sort_values('Body',0, True).iloc[0]['Body']\n"
          ]
        },
        {
          "output_type": "stream",
          "name": "stdout",
          "text": [
            "Content of the smallest post:\n",
            "\n",
            "\n",
            "<p>Here's a naïve implementation of your pseudocode in R:</p>\n",
            "\n",
            "<pre><code>calculate_cost &lt;- function(kwh){\n",
            "    if(kwh &lt; 20){\n",
            "        return(0)\n",
            "    }else{\n",
            "         kwh &lt;- kwh - 20\n",
            "    if(kwh &lt;= 5){\n",
            "        return(kwh * 0.1)\n",
            "    }else{\n",
            "        final_cost &lt;- kwh * 0.1\n",
            "        kwh &lt;- kwh - 5\n",
            "        if(kwh &lt;= 100){\n",
            "            return(final_cost + (kwh * 0.053))\n",
            "        }else{\n",
            "            final_cost &lt;- final_cost + (kwh * 0.053)\n",
            "            kwh &lt;- kwh - 100\n",
            "            if(kwh &lt;= 875){\n",
            "                return(final_cost + (kwh * 0.042))\n",
            "            }else{\n",
            "                final_cost &lt;- final_cost + (kwh * 0.042)\n",
            "                kwh &lt;- kwh - 875\n",
            "                return(final_cost + (kwh * 0.039))\n",
            "                }\n",
            "            }\n",
            "        }\n",
            "    }\n",
            "}\n",
            "</code></pre>\n",
            "\n",
            "<p>Then, </p>\n",
            "\n",
            "<pre><code>&gt; calculate_cost(kwh=625)\n",
            "[1] 113.3\n",
            "</code></pre>\n",
            "\n"
          ]
        }
      ],
      "source": [
        "# Content of the smallest post \n",
        "\n",
        "#The sort_values() method sorts the DataFrame by the specified label.\n",
        "\n",
        "# Retrieve the content of the smallest post (first row)\n",
        "smallest_post_content =posts.sort_values('Body',0, True).iloc[0]['Body']\n",
        "\n",
        "print(\"Content of the smallest post:\")\n",
        "print(smallest_post_content)"
      ]
    },
    {
      "cell_type": "markdown",
      "metadata": {
        "id": "3J1FfGVNr1ja"
      },
      "source": [
        "## Data Visualization \n",
        "\n",
        "Exploring data only through queries has its limits. \n",
        "\n",
        "An important step in understanding the data is in the visualization. It is important to think about what information I want to put forward and how.\n",
        "\n",
        "You have the matplotlib and seaborn libraries available:\n",
        "- https://matplotlib.org/stable/index.html\n",
        "- https://seaborn.pydata.org/\n",
        "\n",
        "\n",
        "You can find some cheatsheets at:\n",
        " - for matplotlib: https://matplotlib.org/cheatsheets/\n",
        " - for seaborn: https://res.cloudinary.com/dyd911kmh/image/upload/v1676302629/Marketing/Blog/Seaborn_Cheat_Sheet.pdf\n"
      ]
    },
    {
      "cell_type": "markdown",
      "metadata": {
        "id": "reWXnXkdr_-n"
      },
      "source": [
        "#### Example of matplotlib use"
      ]
    },
    {
      "cell_type": "code",
      "execution_count": 25,
      "metadata": {
        "colab": {
          "base_uri": "https://localhost:8080/",
          "height": 528
        },
        "id": "4a3Urfzsr49v",
        "outputId": "e33d56ee-33ac-43f1-cbb0-2e07b8fbe032"
      },
      "outputs": [
        {
          "output_type": "display_data",
          "data": {
            "text/plain": [
              "<Figure size 800x500 with 1 Axes>"
            ],
            "image/png": "[encoded data removed]"
          },
          "metadata": {}
        }
      ],
      "source": [
        "tags_5 = tags.head(5)\n",
        "\n",
        "fig, ax = plt.subplots(figsize=(8, 5), layout='constrained')\n",
        "\n",
        "plt.bar(x=tags_5[\"TagName\"], height=tags_5[\"Count\"], width=0.4)\n",
        "\n",
        "# Add some text for labels, title and custom x-axis tick labels, etc.\n",
        "ax.set_ylabel('Posts count')\n",
        "ax.set_title('Distribution of Posts count by Tag')\n",
        "ax.set_ylim(0, 12_000)\n",
        "\n",
        "plt.show()"
      ]
    },
    {
      "cell_type": "markdown",
      "metadata": {
        "id": "rFBMPI8qsF9Q"
      },
      "source": [
        "#### Example of seaborn use"
      ]
    },
    {
      "cell_type": "code",
      "execution_count": 26,
      "metadata": {
        "colab": {
          "base_uri": "https://localhost:8080/",
          "height": 528
        },
        "id": "dyx3MZ_asDOz",
        "outputId": "0269cdca-f5d8-4130-f92f-628aab07ca45"
      },
      "outputs": [
        {
          "output_type": "display_data",
          "data": {
            "text/plain": [
              "<Figure size 800x500 with 1 Axes>"
            ],
            "image/png": "[encoded data removed]"
          },
          "metadata": {}
        }
      ],
      "source": [
        "tags_5 = tags.head(5)\n",
        "\n",
        "fig, ax = plt.subplots(figsize=(8, 5), layout='constrained')\n",
        "\n",
        "sns.barplot(x=tags_5[\"TagName\"], y=tags_5[\"Count\"], width=0.4)\n",
        "\n",
        "# Add some text for labels, title and custom x-axis tick labels, etc.\n",
        "ax.set_ylabel('Posts count')\n",
        "ax.set_title('Distribution of Posts count by Tag')\n",
        "ax.set_ylim(0, 12_000)\n",
        "\n",
        "plt.show()"
      ]
    },
    {
      "cell_type": "markdown",
      "metadata": {
        "id": "1vHw-rh9sdFL"
      },
      "source": [
        "These were 2 examples of distribution visualization via histograms.\n",
        "\n",
        "On Seaborn, several types of fairly intuitive graphs are available. They are classified by type of input data:\n",
        "- Visualize 2 continuous variables: relplot\n",
        "- Visualize 1 continuous variable in relation to a categorical variable: displot\n",
        "- Visualize 2 categorical variables : catplot\n",
        "\n",
        "![image.png](https://seaborn.pydata.org/_images/function_overview_8_0.png)\n",
        "\n",
        "\n",
        "More examples can be found here : https://seaborn.pydata.org/tutorial/function_overview.html\n"
      ]
    },
    {
      "cell_type": "code",
      "execution_count": 27,
      "metadata": {
        "colab": {
          "base_uri": "https://localhost:8080/",
          "height": 489
        },
        "id": "wZEe7iqxsihH",
        "outputId": "c430d21d-ae7d-40e0-c92d-162299c6f473"
      },
      "outputs": [
        {
          "output_type": "execute_result",
          "data": {
            "text/plain": [
              "Text(0.5, 1.0, 'Distribution of the number of users by new posts number')"
            ]
          },
          "metadata": {},
          "execution_count": 27
        },
        {
          "output_type": "display_data",
          "data": {
            "text/plain": [
              "<Figure size 640x480 with 1 Axes>"
            ],
            "image/png": "[encoded data removed]"
          },
          "metadata": {}
        }
      ],
      "source": [
        "# Viz 1 : Plot the distribution of number of posts created by users\n",
        "\n",
        "# Directly use histplot takes too long because of the number of users.\n",
        "# Better to aggregate and then use barplot\n",
        "\n",
        "# Doesn't take into account users that have never created posts\n",
        "\n",
        "posts_count = posts.groupby(\"OwnerUserId\", as_index=False)[\"Id\"].count()\n",
        "posts_count = posts_count.rename(columns={\"Id\": \"postNumber\"})\n",
        "posts_count_number = posts_count.groupby(\"postNumber\", as_index=False).count()\n",
        "\n",
        "sns.barplot(x=\"postNumber\", y=\"OwnerUserId\", data=posts_count_number)\n",
        "plt.xlim((0, 10))\n",
        "plt.ylabel(\"Number of New Posts\")\n",
        "plt.title(\"Distribution of the number of users by new posts number\")"
      ]
    },
    {
      "cell_type": "code",
      "execution_count": 28,
      "metadata": {
        "colab": {
          "base_uri": "https://localhost:8080/",
          "height": 489
        },
        "id": "omajwmj1s3Ql",
        "outputId": "eb6af535-219e-4cdb-9dc3-4bdb4b626d8d"
      },
      "outputs": [
        {
          "output_type": "execute_result",
          "data": {
            "text/plain": [
              "Text(0.5, 1.0, 'Distribution of the new posts number by months')"
            ]
          },
          "metadata": {},
          "execution_count": 28
        },
        {
          "output_type": "display_data",
          "data": {
            "text/plain": [
              "<Figure size 640x480 with 1 Axes>"
            ],
            "image/png": "[encoded data removed]"
          },
          "metadata": {}
        }
      ],
      "source": [
        "# Viz 2 : Plot the distribution of number of posts by months\n",
        "posts[\"month_creation_date\"] = pd.to_datetime(posts.CreationDate).dt.month\n",
        "\n",
        "posts_by_month = posts.groupby(\"month_creation_date\", as_index=False)[\"OwnerUserId\"].count()\n",
        "\n",
        "sns.barplot(x=\"month_creation_date\", y=\"OwnerUserId\", data=posts_by_month)\n",
        "plt.ylabel(\"Number of New Posts\")\n",
        "plt.title(\"Distribution of the new posts number by months\")"
      ]
    },
    {
      "cell_type": "code",
      "execution_count": 29,
      "metadata": {
        "colab": {
          "base_uri": "https://localhost:8080/",
          "height": 593
        },
        "id": "Fx2iVYoTtLBJ",
        "outputId": "b146abcb-f8d6-4fca-bb3c-c0a11fd886f4"
      },
      "outputs": [
        {
          "output_type": "stream",
          "name": "stderr",
          "text": [
            "<ipython-input-29-6cab37c54ce2>:6: SettingWithCopyWarning: \n",
            "A value is trying to be set on a copy of a slice from a DataFrame.\n",
            "Try using .loc[row_indexer,col_indexer] = value instead\n",
            "\n",
            "See the caveats in the documentation: https://pandas.pydata.org/pandas-docs/stable/user_guide/indexing.html#returning-a-view-versus-a-copy\n",
            "  posts_sup2020[\"nbCaracters\"] = posts_sup2020.Body.str.len()\n"
          ]
        },
        {
          "output_type": "execute_result",
          "data": {
            "text/plain": [
              "Text(0.5, 1.0, 'Distribution of the number of characters by posts and by users')"
            ]
          },
          "metadata": {},
          "execution_count": 29
        },
        {
          "output_type": "display_data",
          "data": {
            "text/plain": [
              "<Figure size 640x480 with 1 Axes>"
            ],
            "image/png": "[encoded data removed]"
          },
          "metadata": {}
        }
      ],
      "source": [
        "# Viz 3 : Plot the distribution of number of characters by posts and by year starting from 2020\n",
        "posts[\"CreationDateYear\"] = pd.to_datetime(posts.CreationDate).dt.year\n",
        "\n",
        "posts_sup2020 = posts[posts.CreationDateYear > 2020]\n",
        "\n",
        "posts_sup2020[\"nbCaracters\"] = posts_sup2020.Body.str.len()\n",
        "\n",
        "sns.histplot(x=\"nbCaracters\", hue=\"CreationDateYear\", data=posts_sup2020)\n",
        "plt.xlim((0, 5000))\n",
        "plt.ylabel(\"Number of Characters\")\n",
        "plt.title(\"Distribution of the number of characters by posts and by users\")"
      ]
    },
    {
      "cell_type": "code",
      "execution_count": null,
      "metadata": {
        "id": "bz2HP6O9tT-3"
      },
      "outputs": [],
      "source": [
        "# Add other visualization figures that can help you to decide the search engine architecture"
      ]
    },
    {
      "cell_type": "markdown",
      "metadata": {
        "id": "mhDTfggBtWYM"
      },
      "source": [
        "## Exploring Other Files\n",
        "\n",
        "The purpose of this part is to understand the other files using the same process and data collection site: https://archive.org/details/stackexchange\n",
        "\n",
        "You will describe the purpose and content of each file to show your understanding of the subject. You will also make a relational diagram of the different tables directly in the report."
      ]
    },
    {
      "cell_type": "code",
      "execution_count": 32,
      "metadata": {
        "id": "Q4gGnRTKtcBp",
        "colab": {
          "base_uri": "https://localhost:8080/",
          "height": 472
        },
        "outputId": "ca1e5e22-e577-4a9e-8ec5-eb55bebfc0d9"
      },
      "outputs": [
        {
          "output_type": "display_data",
          "data": {
            "text/plain": [
              "<Figure size 640x480 with 1 Axes>"
            ],
            "image/png": "[encoded data removed]"
          },
          "metadata": {}
        }
      ],
      "source": [
        "import pandas as pd\n",
        "import seaborn as sns\n",
        "\n",
        "posts = pd.read_xml(os.path.join(DATA_PATH, 'Posts.xml'), parser=\"etree\", encoding=\"utf8\")\n",
        "\n",
        "view_count = posts['ViewCount']\n",
        "score = posts['Score']\n",
        "\n",
        "#scatter plot avec Seaborn\n",
        "sns.scatterplot(x=view_count, y=score)\n",
        "plt.xlabel('View Count')\n",
        "plt.ylabel('Score')\n",
        "plt.title('Evolution du score avec le ViewCount')\n",
        "\n",
        "# Display the plot\n",
        "plt.show()\n"
      ]
    },
    {
      "cell_type": "code",
      "source": [
        "users = pd.read_xml(os.path.join(DATA_PATH, 'Users.xml'), parser=\"etree\", encoding=\"utf8\")\n",
        "\n",
        "view_count = users['Reputation']\n",
        "score = users['Views']\n",
        "\n",
        "sns.scatterplot(x=view_count, y=score)\n",
        "plt.xlabel(\"Réputation de l'utilisateur\")\n",
        "plt.ylabel('Views')\n",
        "plt.title('Evolution de \"Views\" en fonction de la réputation des utilisateurs')\n",
        "\n",
        "plt.show()\n"
      ],
      "metadata": {
        "colab": {
          "base_uri": "https://localhost:8080/",
          "height": 473
        },
        "id": "nUiaqhqAOalw",
        "outputId": "8b5c4a0a-34bf-4d6d-f2d4-ff45bcd38ab6"
      },
      "execution_count": 35,
      "outputs": [
        {
          "output_type": "display_data",
          "data": {
            "text/plain": [
              "<Figure size 640x480 with 1 Axes>"
            ],
            "image/png": "[encoded data removed]"
          },
          "metadata": {}
        }
      ]
    },
    {
      "cell_type": "markdown",
      "metadata": {
        "id": "gU11G80rtfld"
      },
      "source": [
        "## Suggest ideas for the search engine\n",
        "\n",
        "Using your work and knowledge of this database, propose a structure for your search engine in the report. You do not need to code it entirely yet, simply write down some ideas you may already have on how you could build a great search engine, which data to use and how to use it.\n",
        "\n",
        "Reminder: The aim is to provide a search engine able to find information from any of the files with textual data in it (posts, comments, ...) on the datascience topic. Some files might be better than others when it comes to searching for information, some metadata could be used aswell... "
      ]
    },
    {
      "cell_type": "code",
      "execution_count": null,
      "metadata": {
        "id": "GpW9E16gzVIu"
      },
      "outputs": [],
      "source": []
    }
  ],
  "metadata": {
    "colab": {
      "provenance": []
    },
    "kernelspec": {
      "display_name": "Python 3",
      "name": "python3"
    },
    "language_info": {
      "name": "python"
    }
  },
  "nbformat": 4,
  "nbformat_minor": 0
}