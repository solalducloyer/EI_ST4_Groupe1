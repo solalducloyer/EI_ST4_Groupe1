{
 "cells": [
  {
   "cell_type": "markdown",
   "source": [
    "# Final Notebook\r\n",
    "\r\n",
    "This notebook is your search engine. \r\n",
    "\r\n",
    "For testing your work, we will run each cell. Thus, your code we'll have to fit the structure expected.\r\n",
    "\r\n"
   ],
   "metadata": {}
  },
  {
   "cell_type": "markdown",
   "source": [
    "## Initialisation\r\n",
    "\r\n",
    "- Install libraries (if you use Colab and needed),\r\n",
    "- Import the modules,\r\n",
    "- Declare global variable\r\n"
   ],
   "metadata": {}
  },
  {
   "cell_type": "code",
   "execution_count": null,
   "source": [
    "FILEPATH = \"\""
   ],
   "outputs": [],
   "metadata": {}
  },
  {
   "cell_type": "markdown",
   "source": [
    "## Extraction the data"
   ],
   "metadata": {}
  },
  {
   "cell_type": "code",
   "execution_count": null,
   "source": [
    "def extract_data(filepath):\r\n",
    "    # TODO\r\n",
    "\r\n",
    "    return"
   ],
   "outputs": [],
   "metadata": {}
  },
  {
   "cell_type": "code",
   "execution_count": null,
   "source": [
    "df = extract_data(filepath=FILEPATH)"
   ],
   "outputs": [],
   "metadata": {}
  },
  {
   "cell_type": "markdown",
   "source": [
    "## Indexation data"
   ],
   "metadata": {}
  },
  {
   "cell_type": "markdown",
   "source": [
    "def index_data():\r\n",
    "    # TODO\r\n",
    "    \r\n",
    "    return"
   ],
   "metadata": {}
  },
  {
   "cell_type": "code",
   "execution_count": null,
   "source": [
    "# If needed\r\n",
    "\r\n",
    "def inverted_index_data():\r\n",
    "    # TODO\r\n",
    "\r\n",
    "    return"
   ],
   "outputs": [],
   "metadata": {}
  },
  {
   "cell_type": "code",
   "execution_count": null,
   "source": [
    "# Save and Load your Index(es) in Pickle format\r\n",
    "\r\n",
    "def save_index(savepath):\r\n",
    "    # TODO\r\n",
    "\r\n",
    "    return\r\n",
    "\r\n",
    "\r\n",
    "def load_index(savepath):\r\n",
    "    # TODO\r\n",
    "\r\n",
    "    return"
   ],
   "outputs": [],
   "metadata": {}
  },
  {
   "cell_type": "code",
   "execution_count": null,
   "source": [],
   "outputs": [],
   "metadata": {}
  },
  {
   "cell_type": "markdown",
   "source": [
    "## Search Method"
   ],
   "metadata": {}
  },
  {
   "cell_type": "code",
   "execution_count": null,
   "source": [
    "def search(query):\r\n",
    "    # TODO\r\n",
    "\r\n",
    "    return"
   ],
   "outputs": [],
   "metadata": {}
  },
  {
   "cell_type": "markdown",
   "source": [
    "## Ranking"
   ],
   "metadata": {}
  },
  {
   "cell_type": "code",
   "execution_count": null,
   "source": [
    "def rank_search(results, top=5):\r\n",
    "    # TODO\r\n",
    "\r\n",
    "    return"
   ],
   "outputs": [],
   "metadata": {}
  },
  {
   "cell_type": "markdown",
   "source": [
    "## Visualising Results"
   ],
   "metadata": {}
  },
  {
   "cell_type": "code",
   "execution_count": null,
   "source": [
    "def visualize_output():\r\n",
    "    # TODO\r\n",
    "    \r\n",
    "    return"
   ],
   "outputs": [],
   "metadata": {}
  },
  {
   "cell_type": "markdown",
   "source": [
    "## Querying"
   ],
   "metadata": {}
  },
  {
   "cell_type": "code",
   "execution_count": null,
   "source": [
    "def make_query(natural_query):\r\n",
    "    # TODO\r\n",
    "\r\n",
    "    return"
   ],
   "outputs": [],
   "metadata": {}
  },
  {
   "cell_type": "markdown",
   "source": [
    "## Scoring"
   ],
   "metadata": {}
  },
  {
   "cell_type": "code",
   "execution_count": null,
   "source": [
    "# Pas sûr de garder cette partie"
   ],
   "outputs": [],
   "metadata": {}
  },
  {
   "cell_type": "markdown",
   "source": [
    "## Testing"
   ],
   "metadata": {}
  },
  {
   "cell_type": "code",
   "execution_count": null,
   "source": [
    "# TODO"
   ],
   "outputs": [],
   "metadata": {}
  }
 ],
 "metadata": {
  "orig_nbformat": 4,
  "language_info": {
   "name": "python"
  }
 },
 "nbformat": 4,
 "nbformat_minor": 2
}