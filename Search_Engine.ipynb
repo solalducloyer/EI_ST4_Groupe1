{
  "cells": [
    {
      "cell_type": "markdown",
      "source": [
        "# Final Notebook\n",
        "\n",
        "This notebook is your search engine. \n",
        "\n",
        "For testing your work, we will run each cell. Thus, your code we'll have to fit the structure expected.\n",
        "\n"
      ],
      "metadata": {
        "id": "-sFdKKsCi_JN"
      }
    },
    {
      "cell_type": "markdown",
      "source": [
        "## Initialisation\n",
        "\n",
        "- Install libraries (if you use Colab and needed),\n",
        "- Import the modules,\n",
        "- Declare global variable\n"
      ],
      "metadata": {
        "id": "uZV0BVIKi_JR"
      }
    },
    {
      "cell_type": "code",
      "source": [
        "!pip install nltk\n",
        "!python -m textblob.download_corpora\n",
        "!pip install beautifulsoup4"
      ],
      "metadata": {
        "id": "U-J-SulpjRkQ",
        "colab": {
          "base_uri": "https://localhost:8080/"
        },
        "outputId": "5aaac32d-d9e0-4ca5-ce72-823a796eb2ed"
      },
      "execution_count": 1,
      "outputs": [
        {
          "output_type": "stream",
          "name": "stdout",
          "text": [
            "Looking in indexes: https://pypi.org/simple, https://us-python.pkg.dev/colab-wheels/public/simple/\n",
            "Requirement already satisfied: nltk in /usr/local/lib/python3.10/dist-packages (3.8.1)\n",
            "Requirement already satisfied: click in /usr/local/lib/python3.10/dist-packages (from nltk) (8.1.3)\n",
            "Requirement already satisfied: joblib in /usr/local/lib/python3.10/dist-packages (from nltk) (1.2.0)\n",
            "Requirement already satisfied: regex>=2021.8.3 in /usr/local/lib/python3.10/dist-packages (from nltk) (2022.10.31)\n",
            "Requirement already satisfied: tqdm in /usr/local/lib/python3.10/dist-packages (from nltk) (4.65.0)\n",
            "[nltk_data] Downloading package brown to /root/nltk_data...\n",
            "[nltk_data]   Unzipping corpora/brown.zip.\n",
            "[nltk_data] Downloading package punkt to /root/nltk_data...\n",
            "[nltk_data]   Unzipping tokenizers/punkt.zip.\n",
            "[nltk_data] Downloading package wordnet to /root/nltk_data...\n",
            "[nltk_data] Downloading package averaged_perceptron_tagger to\n",
            "[nltk_data]     /root/nltk_data...\n",
            "[nltk_data]   Unzipping taggers/averaged_perceptron_tagger.zip.\n",
            "[nltk_data] Downloading package conll2000 to /root/nltk_data...\n",
            "[nltk_data]   Unzipping corpora/conll2000.zip.\n",
            "[nltk_data] Downloading package movie_reviews to /root/nltk_data...\n",
            "[nltk_data]   Unzipping corpora/movie_reviews.zip.\n",
            "Finished.\n",
            "Looking in indexes: https://pypi.org/simple, https://us-python.pkg.dev/colab-wheels/public/simple/\n",
            "Requirement already satisfied: beautifulsoup4 in /usr/local/lib/python3.10/dist-packages (4.11.2)\n",
            "Requirement already satisfied: soupsieve>1.2 in /usr/local/lib/python3.10/dist-packages (from beautifulsoup4) (2.4.1)\n"
          ]
        }
      ]
    },
    {
      "cell_type": "code",
      "source": [
        "import pandas as pd\n",
        "import os\n",
        "from bs4 import BeautifulSoup\n",
        "import re\n",
        "import math\n",
        "import numpy as np\n",
        "import nltk\n",
        "from nltk.corpus import stopwords\n",
        "nltk.download('stopwords')\n",
        "nltk.download('wordnet')\n",
        "from nltk.stem import WordNetLemmatizer"
      ],
      "metadata": {
        "colab": {
          "base_uri": "https://localhost:8080/"
        },
        "id": "y6NEJS4sjk1M",
        "outputId": "9649432a-cfbb-4024-b715-2da36af69bfa"
      },
      "execution_count": 39,
      "outputs": [
        {
          "output_type": "stream",
          "name": "stderr",
          "text": [
            "[nltk_data] Downloading package stopwords to /root/nltk_data...\n",
            "[nltk_data]   Package stopwords is already up-to-date!\n",
            "[nltk_data] Downloading package wordnet to /root/nltk_data...\n",
            "[nltk_data]   Package wordnet is already up-to-date!\n"
          ]
        }
      ]
    },
    {
      "cell_type": "code",
      "source": [
        "# Only if you use Colab\n",
        "from google.colab import drive\n",
        "drive.mount('/content/drive')"
      ],
      "metadata": {
        "colab": {
          "base_uri": "https://localhost:8080/"
        },
        "id": "SHiXGDEkjsqI",
        "outputId": "0f58ed00-a9e9-4485-de0b-2733af40b5b4"
      },
      "execution_count": 3,
      "outputs": [
        {
          "output_type": "stream",
          "name": "stdout",
          "text": [
            "Mounted at /content/drive\n"
          ]
        }
      ]
    },
    {
      "cell_type": "code",
      "execution_count": 4,
      "source": [
        "DATAPATH = 'drive/MyDrive/EI_web_data/Data'"
      ],
      "outputs": [],
      "metadata": {
        "id": "z1KYM5rki_JS"
      }
    },
    {
      "cell_type": "markdown",
      "source": [
        "## Extraction the data"
      ],
      "metadata": {
        "id": "UVggTxw0i_JT"
      }
    },
    {
      "cell_type": "code",
      "execution_count": 50,
      "source": [
        "def remove_tags(text:str)->str:\n",
        "  '''retire les balises html du texte'''\n",
        "  soup = BeautifulSoup(text, 'html.parser')\n",
        "\n",
        "  # Supprimer toutes les balises de script et de style\n",
        "  for script in soup(['script', 'style']):\n",
        "    script.extract()\n",
        "\n",
        "  # Obtenir le texte propre sans balises\n",
        "  texte_propre = soup.get_text()\n",
        "  \n",
        "  # Supprimer les espaces supplémentaires et les sauts de ligne\n",
        "  texte_propre = re.sub(r'\\s+', ' ', texte_propre)\n",
        "\n",
        "  return texte_propre\n",
        "\n",
        "def extract_tokens(text:str)->list:\n",
        "  '''récupère (tous) les mots de chaque phrase'''\n",
        "  tokens=re.findall(r'\\w+', text)     \n",
        "  return [token.lower() for token in tokens]\n",
        "\n",
        "def lemmatize(tokens:list)->list:\n",
        "  '''lemmatise tous les mots de la liste'''\n",
        "  wnl = WordNetLemmatizer()\n",
        "  return [wnl.lemmatize(token) for token in tokens]\n",
        "\n",
        "def remove_stopwords(word_list):\n",
        "  '''retire tous les stopwords de la liste'''\n",
        "  return [word for word in word_list if word not in stopwords.words('english')]\n",
        "\n",
        "\n",
        "def extract_data(datapath):\n",
        "    df=pd.read_xml(os.path.join(datapath, 'Posts.xml'), parser=\"etree\", encoding=\"utf8\").sample(1000) #on ne prend pas tout pour gagner du temps\n",
        "    df['CleanBody'] = df['Body'].fillna('').apply(remove_tags)\n",
        "    df['Tokens'] = df['CleanBody'].apply(extract_tokens)\n",
        "    df['Words']= df['Tokens'].apply(lemmatize)\n",
        "    df['MeaningfullWords'] = df['Words'].apply(remove_stopwords)\n",
        "\n",
        "    return df"
      ],
      "outputs": [],
      "metadata": {
        "id": "oKKTrOCQi_JT"
      }
    },
    {
      "cell_type": "code",
      "execution_count": 51,
      "source": [
        "df = extract_data(datapath=DATAPATH)"
      ],
      "outputs": [],
      "metadata": {
        "id": "neDTh1cii_JU"
      }
    },
    {
      "cell_type": "markdown",
      "source": [
        "## Indexation data"
      ],
      "metadata": {
        "id": "Pv1LW7pgi_JU"
      }
    },
    {
      "cell_type": "code",
      "source": [
        "def index_data(df:pd.DataFrame)-> set:\n",
        "  ''' renvoie un dictionnaire de la forme \n",
        "  dic={mot:{id:f_id}}'''\n",
        "\n",
        "  dic={}\n",
        "  for rang in df.index:\n",
        "    Words = df.loc[rang, 'Words']\n",
        "    id = df.loc[rang,'Id']\n",
        "    for word in Words:\n",
        "      if word in dic.keys(): #si le mot est déjà apparu dans le corpus\n",
        "        if id in dic[word].keys(): #si le mot est déjà apparu dans ce document\n",
        "          dic[word][id]+=1\n",
        "        else:\n",
        "          dic[word][id]=1 #première occurence du mot dans ce document\n",
        "      else:#première occurence du mot dans le corpus\n",
        "        dic[word]={id: 1}\n",
        "\n",
        "  return dic"
      ],
      "metadata": {
        "id": "QgfhMclXNtko"
      },
      "execution_count": 44,
      "outputs": []
    },
    {
      "cell_type": "code",
      "source": [
        "inverted_index=index_data(df)"
      ],
      "metadata": {
        "id": "iqqHhitMNuRm"
      },
      "execution_count": 52,
      "outputs": []
    },
    {
      "cell_type": "code",
      "execution_count": null,
      "source": [
        "# Save and Load your Index(es) in Pickle format\n",
        "\n",
        "def save_index(savepath):\n",
        "    # TODO\n",
        "\n",
        "    return\n",
        "\n",
        "\n",
        "def load_index(savepath):\n",
        "    # TODO\n",
        "\n",
        "    return"
      ],
      "outputs": [],
      "metadata": {
        "id": "l4Uk6xuqi_JV"
      }
    },
    {
      "cell_type": "markdown",
      "source": [
        "## Search Method"
      ],
      "metadata": {
        "id": "BFX6mpI-i_JV"
      }
    },
    {
      "cell_type": "code",
      "execution_count": 53,
      "source": [
        "def BM25(query, df=df, inverted_index=inverted_index, k1=1.5, b=0.75):\n",
        "  '''retourne une copy de la dataframe avec une colonne 'Queryscore' contenant le score BM25 pour la requête'''\n",
        "  #extraction des mots de la requête\n",
        "  processed_query=lemmatize(extract_tokens(query))\n",
        "\n",
        "  #création d'une copie de la dataframe\n",
        "  df_copy=df.copy()\n",
        "\n",
        "  #ajout d'une colonne longueur du document\n",
        "  df_copy['Lenght']=df_copy['Words'].apply(lambda x : len(x))\n",
        "\n",
        "  N=len(df_copy) #nombre de docs dans la collection\n",
        "  avgdl=df_copy['Lenght'].mean() #longueur moyenne des docs\n",
        "\n",
        "  #calcul du score de chaque document\n",
        "  scores=[]\n",
        "  for rang in df_copy.index:\n",
        "    doc_id=df_copy.loc[rang,'Id']\n",
        "    lenght=df_copy.loc[rang,'Lenght']\n",
        "    s=0\n",
        "\n",
        "    for terme in processed_query:\n",
        "      if terme not in inverted_index : \n",
        "        s+=0 #le terme n'apparait ni dans le doc ni même dans le corpus --> contribution nulle au score \n",
        "      else :\n",
        "        n=len(inverted_index[terme]) # nombre de documents contenants le terme\n",
        "        \n",
        "        IDF=math.log((N-n+0.5)/(n+0.5))\n",
        "        if doc_id in inverted_index[terme]: freq=inverted_index[terme][doc_id]\n",
        "        else: freq=0\n",
        "        s+=IDF*freq*(k1+1)/(freq+k1*(1-b+b*lenght/avgdl))\n",
        "    \n",
        "    scores.append(s)\n",
        "\n",
        "  #ajout d'une colonne 'Queryscore' à la copie de la dataframe\n",
        "  df_copy['QueryScore']=scores\n",
        "\n",
        "  return df_copy\n",
        "\n",
        "\n",
        "\n",
        "\n",
        "def search(query):\n",
        "    # TODO\n",
        "\n",
        "    return"
      ],
      "outputs": [],
      "metadata": {
        "id": "SIX40Jlti_JV"
      }
    },
    {
      "cell_type": "code",
      "source": [
        "query='what is stochastic gradient descent ?'\n",
        "BM25(query).nlargest(5, 'QueryScore')"
      ],
      "metadata": {
        "colab": {
          "base_uri": "https://localhost:8080/",
          "height": 586
        },
        "id": "5AFL4OGgNEdz",
        "outputId": "6c28f87d-f4bf-4e10-aa97-c506aa85eb3b"
      },
      "execution_count": 57,
      "outputs": [
        {
          "output_type": "execute_result",
          "data": {
            "text/plain": [
              "           Id  PostTypeId             CreationDate  Score  ViewCount  \\\n",
              "4472     9404           2  2015-12-15T19:31:07.267      7        NaN   \n",
              "13155   22075           1  2017-08-08T15:24:06.500      3     5074.0   \n",
              "65087  105080           2  2021-12-13T19:31:29.770      1        NaN   \n",
              "52489   81654           1  2020-09-14T05:23:29.517      0     1218.0   \n",
              "23221   36804           4  2018-08-11T20:54:07.867      0        NaN   \n",
              "\n",
              "                                                    Body  OwnerUserId  \\\n",
              "4472   <p>Let us say that the output of one neural ne...      14779.0   \n",
              "13155  <p>Since the aim of a Discriminator is to outp...      32882.0   \n",
              "65087  <p>What you have is a standard optimization pr...      80744.0   \n",
              "52489  <p>According to me:</p>\\n<p><strong>Mini Batch...      98121.0   \n",
              "23221  Use for questions about Backpropagation, which...      29575.0   \n",
              "\n",
              "              LastActivityDate  \\\n",
              "4472   2015-12-15T19:31:07.267   \n",
              "13155  2018-03-31T15:41:23.930   \n",
              "65087  2021-12-13T19:31:29.770   \n",
              "52489  2020-09-14T13:44:32.070   \n",
              "23221  2018-08-12T23:29:15.453   \n",
              "\n",
              "                                                   Title  \\\n",
              "4472                                                None   \n",
              "13155                               Loss function in GAN   \n",
              "65087                                               None   \n",
              "52489  Why Mini batch gradient descent is faster than...   \n",
              "23221                                               None   \n",
              "\n",
              "                                                    Tags  ...  \\\n",
              "4472                                                None  ...   \n",
              "13155                       <unsupervised-learning><gan>  ...   \n",
              "65087                                               None  ...   \n",
              "52489  <deep-learning><gradient-descent><mini-batch-g...  ...   \n",
              "23221                                               None  ...   \n",
              "\n",
              "       OwnerDisplayName  CommunityOwnedDate LastEditorDisplayName  \\\n",
              "4472               None                None                  None   \n",
              "13155              None                None                  None   \n",
              "65087              None                None                  None   \n",
              "52489              None                None                  None   \n",
              "23221              None                None                  None   \n",
              "\n",
              "      FavoriteCount                                          CleanBody  \\\n",
              "4472            NaN  Let us say that the output of one neural netwo...   \n",
              "13155           NaN  Since the aim of a Discriminator is to output ...   \n",
              "65087           NaN  What you have is a standard optimization probl...   \n",
              "52489           NaN  According to me: Mini Batch Gradient Descent :...   \n",
              "23221           NaN  Use for questions about Backpropagation, which...   \n",
              "\n",
              "                                                  Tokens  \\\n",
              "4472   [let, us, say, that, the, output, of, one, neu...   \n",
              "13155  [since, the, aim, of, a, discriminator, is, to...   \n",
              "65087  [what, you, have, is, a, standard, optimizatio...   \n",
              "52489  [according, to, me, mini, batch, gradient, des...   \n",
              "23221  [use, for, questions, about, backpropagation, ...   \n",
              "\n",
              "                                                   Words  \\\n",
              "4472   [let, u, say, that, the, output, of, one, neur...   \n",
              "13155  [since, the, aim, of, a, discriminator, is, to...   \n",
              "65087  [what, you, have, is, a, standard, optimizatio...   \n",
              "52489  [according, to, me, mini, batch, gradient, des...   \n",
              "23221  [use, for, question, about, backpropagation, w...   \n",
              "\n",
              "                                        MeaningfullWords Lenght QueryScore  \n",
              "4472   [let, u, say, output, one, neural, network, gi...    163  16.047851  \n",
              "13155  [since, aim, discriminator, output, 1, real, d...     85  11.273306  \n",
              "65087  [standard, optimization, problem, ha, got, not...    168  11.033807  \n",
              "52489  [according, mini, batch, gradient, descent, 1,...    110  11.023721  \n",
              "23221  [use, question, backpropagation, commonly, use...     23  10.196139  \n",
              "\n",
              "[5 rows x 28 columns]"
            ],
            "text/html": [
              "\n",
              "  <div id=\"df-858f3651-2cf8-4af6-9062-d1e0be2c3653\">\n",
              "    <div class=\"colab-df-container\">\n",
              "      <div>\n",
              "<style scoped>\n",
              "    .dataframe tbody tr th:only-of-type {\n",
              "        vertical-align: middle;\n",
              "    }\n",
              "\n",
              "    .dataframe tbody tr th {\n",
              "        vertical-align: top;\n",
              "    }\n",
              "\n",
              "    .dataframe thead th {\n",
              "        text-align: right;\n",
              "    }\n",
              "</style>\n",
              "<table border=\"1\" class=\"dataframe\">\n",
              "  <thead>\n",
              "    <tr style=\"text-align: right;\">\n",
              "      <th></th>\n",
              "      <th>Id</th>\n",
              "      <th>PostTypeId</th>\n",
              "      <th>CreationDate</th>\n",
              "      <th>Score</th>\n",
              "      <th>ViewCount</th>\n",
              "      <th>Body</th>\n",
              "      <th>OwnerUserId</th>\n",
              "      <th>LastActivityDate</th>\n",
              "      <th>Title</th>\n",
              "      <th>Tags</th>\n",
              "      <th>...</th>\n",
              "      <th>OwnerDisplayName</th>\n",
              "      <th>CommunityOwnedDate</th>\n",
              "      <th>LastEditorDisplayName</th>\n",
              "      <th>FavoriteCount</th>\n",
              "      <th>CleanBody</th>\n",
              "      <th>Tokens</th>\n",
              "      <th>Words</th>\n",
              "      <th>MeaningfullWords</th>\n",
              "      <th>Lenght</th>\n",
              "      <th>QueryScore</th>\n",
              "    </tr>\n",
              "  </thead>\n",
              "  <tbody>\n",
              "    <tr>\n",
              "      <th>4472</th>\n",
              "      <td>9404</td>\n",
              "      <td>2</td>\n",
              "      <td>2015-12-15T19:31:07.267</td>\n",
              "      <td>7</td>\n",
              "      <td>NaN</td>\n",
              "      <td>&lt;p&gt;Let us say that the output of one neural ne...</td>\n",
              "      <td>14779.0</td>\n",
              "      <td>2015-12-15T19:31:07.267</td>\n",
              "      <td>None</td>\n",
              "      <td>None</td>\n",
              "      <td>...</td>\n",
              "      <td>None</td>\n",
              "      <td>None</td>\n",
              "      <td>None</td>\n",
              "      <td>NaN</td>\n",
              "      <td>Let us say that the output of one neural netwo...</td>\n",
              "      <td>[let, us, say, that, the, output, of, one, neu...</td>\n",
              "      <td>[let, u, say, that, the, output, of, one, neur...</td>\n",
              "      <td>[let, u, say, output, one, neural, network, gi...</td>\n",
              "      <td>163</td>\n",
              "      <td>16.047851</td>\n",
              "    </tr>\n",
              "    <tr>\n",
              "      <th>13155</th>\n",
              "      <td>22075</td>\n",
              "      <td>1</td>\n",
              "      <td>2017-08-08T15:24:06.500</td>\n",
              "      <td>3</td>\n",
              "      <td>5074.0</td>\n",
              "      <td>&lt;p&gt;Since the aim of a Discriminator is to outp...</td>\n",
              "      <td>32882.0</td>\n",
              "      <td>2018-03-31T15:41:23.930</td>\n",
              "      <td>Loss function in GAN</td>\n",
              "      <td>&lt;unsupervised-learning&gt;&lt;gan&gt;</td>\n",
              "      <td>...</td>\n",
              "      <td>None</td>\n",
              "      <td>None</td>\n",
              "      <td>None</td>\n",
              "      <td>NaN</td>\n",
              "      <td>Since the aim of a Discriminator is to output ...</td>\n",
              "      <td>[since, the, aim, of, a, discriminator, is, to...</td>\n",
              "      <td>[since, the, aim, of, a, discriminator, is, to...</td>\n",
              "      <td>[since, aim, discriminator, output, 1, real, d...</td>\n",
              "      <td>85</td>\n",
              "      <td>11.273306</td>\n",
              "    </tr>\n",
              "    <tr>\n",
              "      <th>65087</th>\n",
              "      <td>105080</td>\n",
              "      <td>2</td>\n",
              "      <td>2021-12-13T19:31:29.770</td>\n",
              "      <td>1</td>\n",
              "      <td>NaN</td>\n",
              "      <td>&lt;p&gt;What you have is a standard optimization pr...</td>\n",
              "      <td>80744.0</td>\n",
              "      <td>2021-12-13T19:31:29.770</td>\n",
              "      <td>None</td>\n",
              "      <td>None</td>\n",
              "      <td>...</td>\n",
              "      <td>None</td>\n",
              "      <td>None</td>\n",
              "      <td>None</td>\n",
              "      <td>NaN</td>\n",
              "      <td>What you have is a standard optimization probl...</td>\n",
              "      <td>[what, you, have, is, a, standard, optimizatio...</td>\n",
              "      <td>[what, you, have, is, a, standard, optimizatio...</td>\n",
              "      <td>[standard, optimization, problem, ha, got, not...</td>\n",
              "      <td>168</td>\n",
              "      <td>11.033807</td>\n",
              "    </tr>\n",
              "    <tr>\n",
              "      <th>52489</th>\n",
              "      <td>81654</td>\n",
              "      <td>1</td>\n",
              "      <td>2020-09-14T05:23:29.517</td>\n",
              "      <td>0</td>\n",
              "      <td>1218.0</td>\n",
              "      <td>&lt;p&gt;According to me:&lt;/p&gt;\\n&lt;p&gt;&lt;strong&gt;Mini Batch...</td>\n",
              "      <td>98121.0</td>\n",
              "      <td>2020-09-14T13:44:32.070</td>\n",
              "      <td>Why Mini batch gradient descent is faster than...</td>\n",
              "      <td>&lt;deep-learning&gt;&lt;gradient-descent&gt;&lt;mini-batch-g...</td>\n",
              "      <td>...</td>\n",
              "      <td>None</td>\n",
              "      <td>None</td>\n",
              "      <td>None</td>\n",
              "      <td>NaN</td>\n",
              "      <td>According to me: Mini Batch Gradient Descent :...</td>\n",
              "      <td>[according, to, me, mini, batch, gradient, des...</td>\n",
              "      <td>[according, to, me, mini, batch, gradient, des...</td>\n",
              "      <td>[according, mini, batch, gradient, descent, 1,...</td>\n",
              "      <td>110</td>\n",
              "      <td>11.023721</td>\n",
              "    </tr>\n",
              "    <tr>\n",
              "      <th>23221</th>\n",
              "      <td>36804</td>\n",
              "      <td>4</td>\n",
              "      <td>2018-08-11T20:54:07.867</td>\n",
              "      <td>0</td>\n",
              "      <td>NaN</td>\n",
              "      <td>Use for questions about Backpropagation, which...</td>\n",
              "      <td>29575.0</td>\n",
              "      <td>2018-08-12T23:29:15.453</td>\n",
              "      <td>None</td>\n",
              "      <td>None</td>\n",
              "      <td>...</td>\n",
              "      <td>None</td>\n",
              "      <td>None</td>\n",
              "      <td>None</td>\n",
              "      <td>NaN</td>\n",
              "      <td>Use for questions about Backpropagation, which...</td>\n",
              "      <td>[use, for, questions, about, backpropagation, ...</td>\n",
              "      <td>[use, for, question, about, backpropagation, w...</td>\n",
              "      <td>[use, question, backpropagation, commonly, use...</td>\n",
              "      <td>23</td>\n",
              "      <td>10.196139</td>\n",
              "    </tr>\n",
              "  </tbody>\n",
              "</table>\n",
              "<p>5 rows × 28 columns</p>\n",
              "</div>\n",
              "      <button class=\"colab-df-convert\" onclick=\"convertToInteractive('df-858f3651-2cf8-4af6-9062-d1e0be2c3653')\"\n",
              "              title=\"Convert this dataframe to an interactive table.\"\n",
              "              style=\"display:none;\">\n",
              "        \n",
              "  <svg xmlns=\"http://www.w3.org/2000/svg\" height=\"24px\"viewBox=\"0 0 24 24\"\n",
              "       width=\"24px\">\n",
              "    <path d=\"M0 0h24v24H0V0z\" fill=\"none\"/>\n",
              "    <path d=\"M18.56 5.44l.94 2.06.94-2.06 2.06-.94-2.06-.94-.94-2.06-.94 2.06-2.06.94zm-11 1L8.5 8.5l.94-2.06 2.06-.94-2.06-.94L8.5 2.5l-.94 2.06-2.06.94zm10 10l.94 2.06.94-2.06 2.06-.94-2.06-.94-.94-2.06-.94 2.06-2.06.94z\"/><path d=\"M17.41 7.96l-1.37-1.37c-.4-.4-.92-.59-1.43-.59-.52 0-1.04.2-1.43.59L10.3 9.45l-7.72 7.72c-.78.78-.78 2.05 0 2.83L4 21.41c.39.39.9.59 1.41.59.51 0 1.02-.2 1.41-.59l7.78-7.78 2.81-2.81c.8-.78.8-2.07 0-2.86zM5.41 20L4 18.59l7.72-7.72 1.47 1.35L5.41 20z\"/>\n",
              "  </svg>\n",
              "      </button>\n",
              "      \n",
              "  <style>\n",
              "    .colab-df-container {\n",
              "      display:flex;\n",
              "      flex-wrap:wrap;\n",
              "      gap: 12px;\n",
              "    }\n",
              "\n",
              "    .colab-df-convert {\n",
              "      background-color: #E8F0FE;\n",
              "      border: none;\n",
              "      border-radius: 50%;\n",
              "      cursor: pointer;\n",
              "      display: none;\n",
              "      fill: #1967D2;\n",
              "      height: 32px;\n",
              "      padding: 0 0 0 0;\n",
              "      width: 32px;\n",
              "    }\n",
              "\n",
              "    .colab-df-convert:hover {\n",
              "      background-color: #E2EBFA;\n",
              "      box-shadow: 0px 1px 2px rgba(60, 64, 67, 0.3), 0px 1px 3px 1px rgba(60, 64, 67, 0.15);\n",
              "      fill: #174EA6;\n",
              "    }\n",
              "\n",
              "    [theme=dark] .colab-df-convert {\n",
              "      background-color: #3B4455;\n",
              "      fill: #D2E3FC;\n",
              "    }\n",
              "\n",
              "    [theme=dark] .colab-df-convert:hover {\n",
              "      background-color: #434B5C;\n",
              "      box-shadow: 0px 1px 3px 1px rgba(0, 0, 0, 0.15);\n",
              "      filter: drop-shadow(0px 1px 2px rgba(0, 0, 0, 0.3));\n",
              "      fill: #FFFFFF;\n",
              "    }\n",
              "  </style>\n",
              "\n",
              "      <script>\n",
              "        const buttonEl =\n",
              "          document.querySelector('#df-858f3651-2cf8-4af6-9062-d1e0be2c3653 button.colab-df-convert');\n",
              "        buttonEl.style.display =\n",
              "          google.colab.kernel.accessAllowed ? 'block' : 'none';\n",
              "\n",
              "        async function convertToInteractive(key) {\n",
              "          const element = document.querySelector('#df-858f3651-2cf8-4af6-9062-d1e0be2c3653');\n",
              "          const dataTable =\n",
              "            await google.colab.kernel.invokeFunction('convertToInteractive',\n",
              "                                                     [key], {});\n",
              "          if (!dataTable) return;\n",
              "\n",
              "          const docLinkHtml = 'Like what you see? Visit the ' +\n",
              "            '<a target=\"_blank\" href=https://colab.research.google.com/notebooks/data_table.ipynb>data table notebook</a>'\n",
              "            + ' to learn more about interactive tables.';\n",
              "          element.innerHTML = '';\n",
              "          dataTable['output_type'] = 'display_data';\n",
              "          await google.colab.output.renderOutput(dataTable, element);\n",
              "          const docLink = document.createElement('div');\n",
              "          docLink.innerHTML = docLinkHtml;\n",
              "          element.appendChild(docLink);\n",
              "        }\n",
              "      </script>\n",
              "    </div>\n",
              "  </div>\n",
              "  "
            ]
          },
          "metadata": {},
          "execution_count": 57
        }
      ]
    },
    {
      "cell_type": "markdown",
      "source": [
        "## Ranking"
      ],
      "metadata": {
        "id": "6_9CmVMzi_JW"
      }
    },
    {
      "cell_type": "code",
      "execution_count": null,
      "source": [
        "def rank_search(results, top=5):\n",
        "    # TODO\n",
        "\n",
        "    return"
      ],
      "outputs": [],
      "metadata": {
        "id": "WQr_WUP6i_JW"
      }
    },
    {
      "cell_type": "markdown",
      "source": [
        "## Visualising Results"
      ],
      "metadata": {
        "id": "BqFkUY_Wi_JW"
      }
    },
    {
      "cell_type": "code",
      "execution_count": null,
      "source": [
        "def visualize_output():\n",
        "    # TODO\n",
        "    \n",
        "    return"
      ],
      "outputs": [],
      "metadata": {
        "id": "105whCkRi_JW"
      }
    },
    {
      "cell_type": "markdown",
      "source": [
        "## Querying"
      ],
      "metadata": {
        "id": "WHpexXoni_JX"
      }
    },
    {
      "cell_type": "code",
      "execution_count": null,
      "source": [
        "def make_query(natural_query):\n",
        "    # TODO\n",
        "\n",
        "    return"
      ],
      "outputs": [],
      "metadata": {
        "id": "E3EZ4d0Li_JX"
      }
    },
    {
      "cell_type": "markdown",
      "source": [
        "## Scoring"
      ],
      "metadata": {
        "id": "9PYv7zMJi_JX"
      }
    },
    {
      "cell_type": "code",
      "execution_count": null,
      "source": [
        "# Pas sûr de garder cette partie"
      ],
      "outputs": [],
      "metadata": {
        "id": "y43l3P99i_JX"
      }
    },
    {
      "cell_type": "markdown",
      "source": [
        "## Testing"
      ],
      "metadata": {
        "id": "sK43W4vGi_JY"
      }
    },
    {
      "cell_type": "code",
      "execution_count": null,
      "source": [
        "# TODO"
      ],
      "outputs": [],
      "metadata": {
        "id": "2JtRNiJ1i_JY"
      }
    }
  ],
  "metadata": {
    "orig_nbformat": 4,
    "language_info": {
      "name": "python"
    },
    "colab": {
      "provenance": []
    },
    "kernelspec": {
      "name": "python3",
      "display_name": "Python 3"
    }
  },
  "nbformat": 4,
  "nbformat_minor": 0
}